{
  "nbformat": 4,
  "nbformat_minor": 0,
  "metadata": {
    "colab": {
      "name": "MinimalExample_Tensorflow.ipynb",
      "version": "0.3.2",
      "provenance": [],
      "collapsed_sections": [],
      "include_colab_link": true
    },
    "kernelspec": {
      "name": "python3",
      "display_name": "Python 3"
    },
    "accelerator": "GPU"
  },
  "cells": [
    {
      "cell_type": "markdown",
      "metadata": {
        "id": "view-in-github",
        "colab_type": "text"
      },
      "source": [
        "<a href=\"https://colab.research.google.com/github/FernandoZR83/ANN_DL_ML/blob/master/MinimalExample_Tensorflow.ipynb\" target=\"_parent\"><img src=\"https://colab.research.google.com/assets/colab-badge.svg\" alt=\"Open In Colab\"/></a>"
      ]
    },
    {
      "cell_type": "markdown",
      "metadata": {
        "id": "akEgMV4sHT7A",
        "colab_type": "text"
      },
      "source": [
        "# This is an introduction to tensorflow 2.0 library\n"
      ]
    },
    {
      "cell_type": "markdown",
      "metadata": {
        "id": "hfzgy_LAHf8H",
        "colab_type": "text"
      },
      "source": [
        "## Let us check out the tf version installed"
      ]
    },
    {
      "cell_type": "code",
      "metadata": {
        "id": "Dn7CbiEDHcwk",
        "colab_type": "code",
        "colab": {
          "base_uri": "https://localhost:8080/",
          "height": 205
        },
        "outputId": "60e2cd77-8f21-4a8b-8b3f-25ac49df739a"
      },
      "source": [
        "!pip show tensorflow"
      ],
      "execution_count": 1,
      "outputs": [
        {
          "output_type": "stream",
          "text": [
            "Name: tensorflow\n",
            "Version: 1.14.0\n",
            "Summary: TensorFlow is an open source machine learning framework for everyone.\n",
            "Home-page: https://www.tensorflow.org/\n",
            "Author: Google Inc.\n",
            "Author-email: packages@tensorflow.org\n",
            "License: Apache 2.0\n",
            "Location: /usr/local/lib/python3.6/dist-packages\n",
            "Requires: tensorboard, termcolor, numpy, wheel, gast, keras-preprocessing, six, grpcio, keras-applications, absl-py, astor, protobuf, wrapt, google-pasta, tensorflow-estimator\n",
            "Required-by: stable-baselines, magenta, fancyimpute\n"
          ],
          "name": "stdout"
        }
      ]
    },
    {
      "cell_type": "markdown",
      "metadata": {
        "id": "JWvVRuFEHv_y",
        "colab_type": "text"
      },
      "source": [
        "Import libraries"
      ]
    },
    {
      "cell_type": "code",
      "metadata": {
        "id": "leb_GZyYHzfE",
        "colab_type": "code",
        "colab": {}
      },
      "source": [
        "import pandas as pd\n",
        "import numpy as np\n",
        "import matplotlib.pyplot as plt\n",
        "import sklearn as sk\n",
        "import tensorflow as tf"
      ],
      "execution_count": 0,
      "outputs": []
    },
    {
      "cell_type": "markdown",
      "metadata": {
        "id": "9TFOAEJgWear",
        "colab_type": "text"
      },
      "source": [
        "Data generation \n",
        "We need tensors to work with tensorflow"
      ]
    },
    {
      "cell_type": "code",
      "metadata": {
        "id": "e3pceV-lHzha",
        "colab_type": "code",
        "colab": {
          "base_uri": "https://localhost:8080/",
          "height": 34
        },
        "outputId": "eea8c96d-24a4-4887-a385-e7477f671316"
      },
      "source": [
        "#!rm -rf '/content/ANN_DL_ML/'\n",
        "!git clone 'https://github.com/FernandoZR83/ANN_DL_ML'"
      ],
      "execution_count": 4,
      "outputs": [
        {
          "output_type": "stream",
          "text": [
            "fatal: destination path 'ANN_DL_ML' already exists and is not an empty directory.\n"
          ],
          "name": "stdout"
        }
      ]
    },
    {
      "cell_type": "code",
      "metadata": {
        "id": "lYY-aZmEHzje",
        "colab_type": "code",
        "colab": {}
      },
      "source": [
        "# First, we should declare a variable containing the size of the training set we want to generate.\n",
        "observations = 100000\n",
        "\n",
        "# We will work with two variables as inputs. You can think about them as x1 and x2 in our previous examples.\n",
        "# We have picked x and z, since it is easier to differentiate them.\n",
        "# We generate them randomly, drawing from an uniform distribution. There are 3 arguments of this method (low, high, size).\n",
        "# The size of xs and zs is observations x 1. In this case: 1000 x 1.\n",
        "xs = np.random.uniform(low=-10, high=10, size=(observations,1))\n",
        "zs = np.random.uniform(-10, 10, (observations,1))\n",
        "\n",
        "# Combine the two dimensions of the input into one input matrix. \n",
        "# This is the X matrix from the linear model y = x*w + b.\n",
        "# column_stack is a Numpy method, which combines two matrices (vectors) into one.\n",
        "generated_inputs = np.column_stack((xs,zs))\n",
        "\n",
        "# We add a random small noise to the function i.e. f(x,z) = 2x - 3z + 5 + <small noise>\n",
        "noise = np.random.uniform(-1, 1, (observations,1))\n",
        "\n",
        "# Produce the targets according to our f(x,z) = 2x - 3z + 5 + noise definition.\n",
        "# In this way, we are basically saying: the weights should be 2 and -3, while the bias is 5.\n",
        "generated_targets = 2*xs - 3*zs + 5 + noise\n",
        "\n",
        "# save into an npz file called \"TF_intro\"\n",
        "np.savez('TF_intro', inputs=generated_inputs, targets=generated_targets)"
      ],
      "execution_count": 0,
      "outputs": []
    },
    {
      "cell_type": "markdown",
      "metadata": {
        "id": "kOzMIBWXiABt",
        "colab_type": "text"
      },
      "source": [
        "Solving with tensor flow"
      ]
    },
    {
      "cell_type": "code",
      "metadata": {
        "id": "Ohe0y3tBHznr",
        "colab_type": "code",
        "colab": {}
      },
      "source": [
        "training_data = np.load('/content/ANN_DL_ML/TF_intro.npz')"
      ],
      "execution_count": 0,
      "outputs": []
    },
    {
      "cell_type": "code",
      "metadata": {
        "id": "E-g1_uOnHzqT",
        "colab_type": "code",
        "colab": {
          "base_uri": "https://localhost:8080/",
          "height": 1000
        },
        "outputId": "d17912a2-2a6e-4a2f-ee02-77bb997eac8f"
      },
      "source": [
        "input_size = 2\n",
        "output_size = 1\n",
        "#We build the model, necessary when using tensorflow\n",
        "\n",
        "model = tf.keras.Sequential([\n",
        "    tf.keras.layers.Dense(output_size)\n",
        "    #tf.keras.layers.Dense(output size) takes the inputs provided to the model and \n",
        "    #calculates the dot productof the inputsand he weights and add bias\n",
        "])\n",
        "\n",
        "\n",
        "model.compile(optimizer = 'sgd', loss = 'mean_squared_error')\n",
        "#model.compile(optimizer,loss) configures the model for training\n",
        "\n",
        "#Which deta tensorflow has to fit?\n",
        "#model.fit(inputs,targets) fits (trains) the model\n",
        "\n",
        "model.fit(training_data['inputs'], training_data['targets'], epochs = 100, verbose = 1) # verbose = 0 is for not showing progress bar"
      ],
      "execution_count": 12,
      "outputs": [
        {
          "output_type": "stream",
          "text": [
            "WARNING: Logging before flag parsing goes to stderr.\n",
            "W0724 15:37:05.555935 140032364136320 deprecation.py:506] From /usr/local/lib/python3.6/dist-packages/tensorflow/python/ops/init_ops.py:1251: calling VarianceScaling.__init__ (from tensorflow.python.ops.init_ops) with dtype is deprecated and will be removed in a future version.\n",
            "Instructions for updating:\n",
            "Call initializer instance with the dtype argument instead of passing it to the constructor\n"
          ],
          "name": "stderr"
        },
        {
          "output_type": "stream",
          "text": [
            "Epoch 1/100\n",
            "100000/100000 [==============================] - 8s 83us/sample - loss: 0.7793\n",
            "Epoch 2/100\n",
            "100000/100000 [==============================] - 4s 45us/sample - loss: 0.3464\n",
            "Epoch 3/100\n",
            "100000/100000 [==============================] - 4s 44us/sample - loss: 0.3458\n",
            "Epoch 4/100\n",
            "100000/100000 [==============================] - 4s 43us/sample - loss: 0.3461\n",
            "Epoch 5/100\n",
            "100000/100000 [==============================] - 5s 45us/sample - loss: 0.3456\n",
            "Epoch 6/100\n",
            "100000/100000 [==============================] - 5s 45us/sample - loss: 0.3457\n",
            "Epoch 7/100\n",
            "100000/100000 [==============================] - 5s 45us/sample - loss: 0.3462\n",
            "Epoch 8/100\n",
            "100000/100000 [==============================] - 4s 44us/sample - loss: 0.3460\n",
            "Epoch 9/100\n",
            "100000/100000 [==============================] - 4s 44us/sample - loss: 0.3460\n",
            "Epoch 10/100\n",
            "100000/100000 [==============================] - 4s 44us/sample - loss: 0.3458\n",
            "Epoch 11/100\n",
            "100000/100000 [==============================] - 4s 44us/sample - loss: 0.3457\n",
            "Epoch 12/100\n",
            "100000/100000 [==============================] - 4s 44us/sample - loss: 0.3459\n",
            "Epoch 13/100\n",
            "100000/100000 [==============================] - 4s 44us/sample - loss: 0.3457\n",
            "Epoch 14/100\n",
            "100000/100000 [==============================] - 4s 44us/sample - loss: 0.3454\n",
            "Epoch 15/100\n",
            "100000/100000 [==============================] - 4s 44us/sample - loss: 0.3454\n",
            "Epoch 16/100\n",
            "100000/100000 [==============================] - 4s 45us/sample - loss: 0.3459\n",
            "Epoch 17/100\n",
            "100000/100000 [==============================] - 4s 45us/sample - loss: 0.3457\n",
            "Epoch 18/100\n",
            "100000/100000 [==============================] - 4s 44us/sample - loss: 0.3459\n",
            "Epoch 19/100\n",
            "100000/100000 [==============================] - 4s 44us/sample - loss: 0.3462\n",
            "Epoch 20/100\n",
            "100000/100000 [==============================] - 4s 44us/sample - loss: 0.3459\n",
            "Epoch 21/100\n",
            "100000/100000 [==============================] - 4s 44us/sample - loss: 0.3459\n",
            "Epoch 22/100\n",
            "100000/100000 [==============================] - 4s 44us/sample - loss: 0.3465\n",
            "Epoch 23/100\n",
            "100000/100000 [==============================] - 4s 44us/sample - loss: 0.3452\n",
            "Epoch 24/100\n",
            "100000/100000 [==============================] - 4s 44us/sample - loss: 0.3463\n",
            "Epoch 25/100\n",
            "100000/100000 [==============================] - 4s 44us/sample - loss: 0.3463\n",
            "Epoch 26/100\n",
            "100000/100000 [==============================] - 4s 44us/sample - loss: 0.3455\n",
            "Epoch 27/100\n",
            "100000/100000 [==============================] - 4s 44us/sample - loss: 0.3460\n",
            "Epoch 28/100\n",
            "100000/100000 [==============================] - 4s 45us/sample - loss: 0.3459\n",
            "Epoch 29/100\n",
            "100000/100000 [==============================] - 4s 44us/sample - loss: 0.3460\n",
            "Epoch 30/100\n",
            "100000/100000 [==============================] - 4s 44us/sample - loss: 0.3460\n",
            "Epoch 31/100\n",
            "100000/100000 [==============================] - 4s 45us/sample - loss: 0.3460\n",
            "Epoch 32/100\n",
            "100000/100000 [==============================] - 4s 44us/sample - loss: 0.3451\n",
            "Epoch 33/100\n",
            "100000/100000 [==============================] - 4s 44us/sample - loss: 0.3465\n",
            "Epoch 34/100\n",
            "100000/100000 [==============================] - 4s 45us/sample - loss: 0.3455\n",
            "Epoch 35/100\n",
            "100000/100000 [==============================] - 4s 45us/sample - loss: 0.3461\n",
            "Epoch 36/100\n",
            "100000/100000 [==============================] - 4s 44us/sample - loss: 0.3460\n",
            "Epoch 37/100\n",
            "100000/100000 [==============================] - 4s 44us/sample - loss: 0.3461\n",
            "Epoch 38/100\n",
            "100000/100000 [==============================] - 4s 44us/sample - loss: 0.3456\n",
            "Epoch 39/100\n",
            "100000/100000 [==============================] - 4s 44us/sample - loss: 0.3457\n",
            "Epoch 40/100\n",
            "100000/100000 [==============================] - 4s 44us/sample - loss: 0.3459\n",
            "Epoch 41/100\n",
            "100000/100000 [==============================] - 4s 44us/sample - loss: 0.3454\n",
            "Epoch 42/100\n",
            "100000/100000 [==============================] - 4s 44us/sample - loss: 0.3460\n",
            "Epoch 43/100\n",
            "100000/100000 [==============================] - 4s 44us/sample - loss: 0.3465\n",
            "Epoch 44/100\n",
            "100000/100000 [==============================] - 4s 44us/sample - loss: 0.3462\n",
            "Epoch 45/100\n",
            "100000/100000 [==============================] - 4s 44us/sample - loss: 0.3459\n",
            "Epoch 46/100\n",
            "100000/100000 [==============================] - 4s 44us/sample - loss: 0.3463\n",
            "Epoch 47/100\n",
            "100000/100000 [==============================] - 4s 44us/sample - loss: 0.3456\n",
            "Epoch 48/100\n",
            "100000/100000 [==============================] - 4s 44us/sample - loss: 0.3456\n",
            "Epoch 49/100\n",
            "100000/100000 [==============================] - 4s 44us/sample - loss: 0.3460\n",
            "Epoch 50/100\n",
            "100000/100000 [==============================] - 4s 44us/sample - loss: 0.3454\n",
            "Epoch 51/100\n",
            "100000/100000 [==============================] - 4s 44us/sample - loss: 0.3460\n",
            "Epoch 52/100\n",
            "100000/100000 [==============================] - 4s 44us/sample - loss: 0.3465\n",
            "Epoch 53/100\n",
            "100000/100000 [==============================] - 4s 45us/sample - loss: 0.3463\n",
            "Epoch 54/100\n",
            "100000/100000 [==============================] - 4s 45us/sample - loss: 0.3464\n",
            "Epoch 55/100\n",
            "100000/100000 [==============================] - 4s 45us/sample - loss: 0.3457\n",
            "Epoch 56/100\n",
            "100000/100000 [==============================] - 4s 45us/sample - loss: 0.3461\n",
            "Epoch 57/100\n",
            "100000/100000 [==============================] - 4s 45us/sample - loss: 0.3454\n",
            "Epoch 58/100\n",
            "100000/100000 [==============================] - 5s 45us/sample - loss: 0.3467\n",
            "Epoch 59/100\n",
            "100000/100000 [==============================] - 4s 44us/sample - loss: 0.3457\n",
            "Epoch 60/100\n",
            "100000/100000 [==============================] - 4s 44us/sample - loss: 0.3453\n",
            "Epoch 61/100\n",
            "100000/100000 [==============================] - 4s 45us/sample - loss: 0.3462\n",
            "Epoch 62/100\n",
            "100000/100000 [==============================] - 4s 45us/sample - loss: 0.3455\n",
            "Epoch 63/100\n",
            "100000/100000 [==============================] - 4s 45us/sample - loss: 0.3460\n",
            "Epoch 64/100\n",
            "100000/100000 [==============================] - 4s 44us/sample - loss: 0.3458\n",
            "Epoch 65/100\n",
            "100000/100000 [==============================] - 4s 45us/sample - loss: 0.3461\n",
            "Epoch 66/100\n",
            "100000/100000 [==============================] - 4s 44us/sample - loss: 0.3455\n",
            "Epoch 67/100\n",
            "100000/100000 [==============================] - 4s 44us/sample - loss: 0.3461\n",
            "Epoch 68/100\n",
            "100000/100000 [==============================] - 4s 44us/sample - loss: 0.3460\n",
            "Epoch 69/100\n",
            "100000/100000 [==============================] - 4s 45us/sample - loss: 0.3458\n",
            "Epoch 70/100\n",
            "100000/100000 [==============================] - 5s 45us/sample - loss: 0.3461\n",
            "Epoch 71/100\n",
            "100000/100000 [==============================] - 4s 45us/sample - loss: 0.3461\n",
            "Epoch 72/100\n",
            "100000/100000 [==============================] - 5s 45us/sample - loss: 0.3459\n",
            "Epoch 73/100\n",
            "100000/100000 [==============================] - 4s 45us/sample - loss: 0.3460\n",
            "Epoch 74/100\n",
            "100000/100000 [==============================] - 4s 45us/sample - loss: 0.3456\n",
            "Epoch 75/100\n",
            "100000/100000 [==============================] - 5s 46us/sample - loss: 0.3460\n",
            "Epoch 76/100\n",
            "100000/100000 [==============================] - 5s 46us/sample - loss: 0.3456\n",
            "Epoch 77/100\n",
            "100000/100000 [==============================] - 5s 45us/sample - loss: 0.3459\n",
            "Epoch 78/100\n",
            "100000/100000 [==============================] - 4s 44us/sample - loss: 0.3461\n",
            "Epoch 79/100\n",
            "100000/100000 [==============================] - 4s 45us/sample - loss: 0.3458\n",
            "Epoch 80/100\n",
            "100000/100000 [==============================] - 4s 44us/sample - loss: 0.3459\n",
            "Epoch 81/100\n",
            "100000/100000 [==============================] - 4s 45us/sample - loss: 0.3457\n",
            "Epoch 82/100\n",
            "100000/100000 [==============================] - 4s 45us/sample - loss: 0.3456\n",
            "Epoch 83/100\n",
            "100000/100000 [==============================] - 4s 44us/sample - loss: 0.3454\n",
            "Epoch 84/100\n",
            "100000/100000 [==============================] - 5s 46us/sample - loss: 0.3463\n",
            "Epoch 85/100\n",
            "100000/100000 [==============================] - 5s 45us/sample - loss: 0.3464\n",
            "Epoch 86/100\n",
            "100000/100000 [==============================] - 4s 44us/sample - loss: 0.3460\n",
            "Epoch 87/100\n",
            "100000/100000 [==============================] - 4s 45us/sample - loss: 0.3462\n",
            "Epoch 88/100\n",
            "100000/100000 [==============================] - 4s 45us/sample - loss: 0.3456\n",
            "Epoch 89/100\n",
            "100000/100000 [==============================] - 4s 45us/sample - loss: 0.3463\n",
            "Epoch 90/100\n",
            "100000/100000 [==============================] - 4s 44us/sample - loss: 0.3464\n",
            "Epoch 91/100\n",
            "100000/100000 [==============================] - 4s 44us/sample - loss: 0.3463\n",
            "Epoch 92/100\n",
            "100000/100000 [==============================] - 4s 44us/sample - loss: 0.3458\n",
            "Epoch 93/100\n",
            "100000/100000 [==============================] - 4s 45us/sample - loss: 0.3454\n",
            "Epoch 94/100\n",
            "100000/100000 [==============================] - 4s 45us/sample - loss: 0.3454\n",
            "Epoch 95/100\n",
            "100000/100000 [==============================] - 4s 44us/sample - loss: 0.3460\n",
            "Epoch 96/100\n",
            "100000/100000 [==============================] - 4s 44us/sample - loss: 0.3458\n",
            "Epoch 97/100\n",
            "100000/100000 [==============================] - 4s 45us/sample - loss: 0.3457\n",
            "Epoch 98/100\n",
            "100000/100000 [==============================] - 4s 45us/sample - loss: 0.3458\n",
            "Epoch 99/100\n",
            "100000/100000 [==============================] - 4s 44us/sample - loss: 0.3462\n",
            "Epoch 100/100\n",
            "100000/100000 [==============================] - 4s 44us/sample - loss: 0.3456\n"
          ],
          "name": "stdout"
        },
        {
          "output_type": "execute_result",
          "data": {
            "text/plain": [
              "<tensorflow.python.keras.callbacks.History at 0x7f5b867edcc0>"
            ]
          },
          "metadata": {
            "tags": []
          },
          "execution_count": 12
        }
      ]
    },
    {
      "cell_type": "markdown",
      "metadata": {
        "id": "Xx_1vYSapHM5",
        "colab_type": "text"
      },
      "source": [
        "Extract weights and biases"
      ]
    },
    {
      "cell_type": "code",
      "metadata": {
        "id": "j2KCwCU8HzvV",
        "colab_type": "code",
        "colab": {
          "base_uri": "https://localhost:8080/",
          "height": 50
        },
        "outputId": "a0a2064a-defe-41e9-a4f8-86f9a2665684"
      },
      "source": [
        "#[0] is the position layer whose weights we are interested in\n",
        "model.layers[0].get_weights()\n"
      ],
      "execution_count": 13,
      "outputs": [
        {
          "output_type": "execute_result",
          "data": {
            "text/plain": [
              "[array([[ 2.006739 ],\n",
              "        [-2.9880488]], dtype=float32), array([5.0060725], dtype=float32)]"
            ]
          },
          "metadata": {
            "tags": []
          },
          "execution_count": 13
        }
      ]
    },
    {
      "cell_type": "code",
      "metadata": {
        "id": "tPer9FXBHzx_",
        "colab_type": "code",
        "colab": {
          "base_uri": "https://localhost:8080/",
          "height": 50
        },
        "outputId": "e464677f-f093-421e-9347-772551b3a674"
      },
      "source": [
        "weights = model.layers[0].get_weights()[0]\n",
        "weights"
      ],
      "execution_count": 14,
      "outputs": [
        {
          "output_type": "execute_result",
          "data": {
            "text/plain": [
              "array([[ 2.006739 ],\n",
              "       [-2.9880488]], dtype=float32)"
            ]
          },
          "metadata": {
            "tags": []
          },
          "execution_count": 14
        }
      ]
    },
    {
      "cell_type": "code",
      "metadata": {
        "id": "6l3WX-sVHz0R",
        "colab_type": "code",
        "colab": {
          "base_uri": "https://localhost:8080/",
          "height": 34
        },
        "outputId": "9274645e-2ebc-46b5-c60f-5c315e43c7f0"
      },
      "source": [
        "bias = model.layers[0].get_weights()[1]\n",
        "bias"
      ],
      "execution_count": 15,
      "outputs": [
        {
          "output_type": "execute_result",
          "data": {
            "text/plain": [
              "array([5.0060725], dtype=float32)"
            ]
          },
          "metadata": {
            "tags": []
          },
          "execution_count": 15
        }
      ]
    },
    {
      "cell_type": "markdown",
      "metadata": {
        "id": "CSIyH154qbGy",
        "colab_type": "text"
      },
      "source": [
        "Extract the outputs (Make predictions)"
      ]
    },
    {
      "cell_type": "code",
      "metadata": {
        "id": "colRBvF9Hzlw",
        "colab_type": "code",
        "colab": {
          "base_uri": "https://localhost:8080/",
          "height": 134
        },
        "outputId": "d08d3b82-0707-4b3a-9797-6721b1c84f97"
      },
      "source": [
        "model.predict_on_batch(training_data['inputs'])"
      ],
      "execution_count": 16,
      "outputs": [
        {
          "output_type": "execute_result",
          "data": {
            "text/plain": [
              "array([[ 32.70417  ],\n",
              "       [ 16.019907 ],\n",
              "       [ -5.9503455],\n",
              "       ...,\n",
              "       [  2.980986 ],\n",
              "       [-35.503906 ],\n",
              "       [  9.173231 ]], dtype=float32)"
            ]
          },
          "metadata": {
            "tags": []
          },
          "execution_count": 16
        }
      ]
    },
    {
      "cell_type": "markdown",
      "metadata": {
        "id": "xvAYDLtAq0kE",
        "colab_type": "text"
      },
      "source": [
        "Compare results to targets"
      ]
    },
    {
      "cell_type": "code",
      "metadata": {
        "id": "yX4uJED7q3KT",
        "colab_type": "code",
        "colab": {
          "base_uri": "https://localhost:8080/",
          "height": 134
        },
        "outputId": "b675eb98-c651-4c47-ee6d-974ec24d9e0d"
      },
      "source": [
        "model.predict_on_batch(training_data['inputs']).round(1)"
      ],
      "execution_count": 17,
      "outputs": [
        {
          "output_type": "execute_result",
          "data": {
            "text/plain": [
              "array([[ 32.7],\n",
              "       [ 16. ],\n",
              "       [ -6. ],\n",
              "       ...,\n",
              "       [  3. ],\n",
              "       [-35.5],\n",
              "       [  9.2]], dtype=float32)"
            ]
          },
          "metadata": {
            "tags": []
          },
          "execution_count": 17
        }
      ]
    },
    {
      "cell_type": "code",
      "metadata": {
        "id": "C0yYAMLTq3NE",
        "colab_type": "code",
        "colab": {
          "base_uri": "https://localhost:8080/",
          "height": 134
        },
        "outputId": "d0d86b44-a64d-4e59-9c10-cc630d8408de"
      },
      "source": [
        "training_data['targets'].round(1)"
      ],
      "execution_count": 18,
      "outputs": [
        {
          "output_type": "execute_result",
          "data": {
            "text/plain": [
              "array([[ 32.3],\n",
              "       [ 15.8],\n",
              "       [ -6. ],\n",
              "       ...,\n",
              "       [  2.5],\n",
              "       [-35.1],\n",
              "       [ 10.2]])"
            ]
          },
          "metadata": {
            "tags": []
          },
          "execution_count": 18
        }
      ]
    },
    {
      "cell_type": "code",
      "metadata": {
        "id": "pBz18J1urcFp",
        "colab_type": "code",
        "colab": {
          "base_uri": "https://localhost:8080/",
          "height": 286
        },
        "outputId": "26f7ed24-660a-4bff-e620-c933c4c6503d"
      },
      "source": [
        "plt.plot(np.squeeze(model.predict_on_batch(training_data['inputs'])),np.squeeze(training_data['targets']))"
      ],
      "execution_count": 21,
      "outputs": [
        {
          "output_type": "execute_result",
          "data": {
            "text/plain": [
              "[<matplotlib.lines.Line2D at 0x7f5bab275b70>]"
            ]
          },
          "metadata": {
            "tags": []
          },
          "execution_count": 21
        },
        {
          "output_type": "display_data",
          "data": {
            "image/png": "[encoded data removed]",
            "text/plain": [
              "<Figure size 432x288 with 1 Axes>"
            ]
          },
          "metadata": {
            "tags": []
          }
        }
      ]
    },
    {
      "cell_type": "markdown",
      "metadata": {
        "id": "1Fk97rV6tyfk",
        "colab_type": "text"
      },
      "source": [
        "Customizing the model"
      ]
    },
    {
      "cell_type": "code",
      "metadata": {
        "id": "4ZxPhB9btxIR",
        "colab_type": "code",
        "colab": {
          "base_uri": "https://localhost:8080/",
          "height": 1000
        },
        "outputId": "e1647b9d-9f1e-4563-89ac-04e8b111999f"
      },
      "source": [
        "input_size = 2\n",
        "output_size = 1\n",
        "#We build the model, necessary when using tensorflow\n",
        "\n",
        "#tf.keras.layers.Dense(output size) takes the inputs provided to the model and \n",
        "#calculates the dot productof the inputsand he weights and add bias\n",
        "#kernel_initializer and bias initializer initialize weights and biases\n",
        "model = tf.keras.Sequential([\n",
        "    tf.keras.layers.Dense(output_size,\n",
        "                          kernel_initializer = tf.random_uniform_initializer(minval=-0.1,maxval=0.1),\n",
        "                          bias_initializer = tf.random_uniform_initializer(minval=-0.1,maxval=0.1)\n",
        "                         )\n",
        "])\n",
        "#Customize optimizer\n",
        "custom_optimizer = tf.keras.optimizers.SGD(learning_rate=0.02)\n",
        "model.compile(optimizer = custom_optimizer, loss = 'mean_squared_error')\n",
        "#model.compile(optimizer,loss) configures the model for training\n",
        "\n",
        "#Which deta tensorflow has to fit?\n",
        "#model.fit(inputs,targets) fits (trains) the model\n",
        "\n",
        "model.fit(training_data['inputs'], training_data['targets'], epochs = 100, verbose = 2) # verbose = 0 is for not showing progress bar"
      ],
      "execution_count": 27,
      "outputs": [
        {
          "output_type": "stream",
          "text": [
            "Epoch 1/100\n",
            "100000/100000 - 4s - loss: 0.6485\n",
            "Epoch 2/100\n",
            "100000/100000 - 4s - loss: 0.3823\n",
            "Epoch 3/100\n",
            "100000/100000 - 4s - loss: 0.3808\n",
            "Epoch 4/100\n",
            "100000/100000 - 4s - loss: 0.3839\n",
            "Epoch 5/100\n",
            "100000/100000 - 4s - loss: 0.3819\n",
            "Epoch 6/100\n",
            "100000/100000 - 4s - loss: 0.3799\n",
            "Epoch 7/100\n",
            "100000/100000 - 4s - loss: 0.3802\n",
            "Epoch 8/100\n",
            "100000/100000 - 4s - loss: 0.3818\n",
            "Epoch 9/100\n",
            "100000/100000 - 4s - loss: 0.3829\n",
            "Epoch 10/100\n",
            "100000/100000 - 4s - loss: 0.3843\n",
            "Epoch 11/100\n",
            "100000/100000 - 4s - loss: 0.3810\n",
            "Epoch 12/100\n",
            "100000/100000 - 4s - loss: 0.3835\n",
            "Epoch 13/100\n",
            "100000/100000 - 4s - loss: 0.3809\n",
            "Epoch 14/100\n",
            "100000/100000 - 4s - loss: 0.3836\n",
            "Epoch 15/100\n",
            "100000/100000 - 4s - loss: 0.3830\n",
            "Epoch 16/100\n",
            "100000/100000 - 4s - loss: 0.3834\n",
            "Epoch 17/100\n",
            "100000/100000 - 4s - loss: 0.3847\n",
            "Epoch 18/100\n",
            "100000/100000 - 4s - loss: 0.3813\n",
            "Epoch 19/100\n",
            "100000/100000 - 4s - loss: 0.3840\n",
            "Epoch 20/100\n",
            "100000/100000 - 4s - loss: 0.3829\n",
            "Epoch 21/100\n",
            "100000/100000 - 4s - loss: 0.3795\n",
            "Epoch 22/100\n",
            "100000/100000 - 4s - loss: 0.3836\n",
            "Epoch 23/100\n",
            "100000/100000 - 4s - loss: 0.3827\n",
            "Epoch 24/100\n",
            "100000/100000 - 4s - loss: 0.3856\n",
            "Epoch 25/100\n",
            "100000/100000 - 4s - loss: 0.3835\n",
            "Epoch 26/100\n",
            "100000/100000 - 4s - loss: 0.3813\n",
            "Epoch 27/100\n",
            "100000/100000 - 4s - loss: 0.3784\n",
            "Epoch 28/100\n",
            "100000/100000 - 4s - loss: 0.3834\n",
            "Epoch 29/100\n",
            "100000/100000 - 4s - loss: 0.3805\n",
            "Epoch 30/100\n",
            "100000/100000 - 4s - loss: 0.3828\n",
            "Epoch 31/100\n",
            "100000/100000 - 4s - loss: 0.3825\n",
            "Epoch 32/100\n",
            "100000/100000 - 4s - loss: 0.3818\n",
            "Epoch 33/100\n",
            "100000/100000 - 4s - loss: 0.3830\n",
            "Epoch 34/100\n",
            "100000/100000 - 4s - loss: 0.3838\n",
            "Epoch 35/100\n",
            "100000/100000 - 4s - loss: 0.3836\n",
            "Epoch 36/100\n",
            "100000/100000 - 4s - loss: 0.3801\n",
            "Epoch 37/100\n",
            "100000/100000 - 4s - loss: 0.3837\n",
            "Epoch 38/100\n",
            "100000/100000 - 4s - loss: 0.3834\n",
            "Epoch 39/100\n",
            "100000/100000 - 4s - loss: 0.3819\n",
            "Epoch 40/100\n",
            "100000/100000 - 4s - loss: 0.3809\n",
            "Epoch 41/100\n",
            "100000/100000 - 4s - loss: 0.3842\n",
            "Epoch 42/100\n",
            "100000/100000 - 4s - loss: 0.3838\n",
            "Epoch 43/100\n",
            "100000/100000 - 4s - loss: 0.3829\n",
            "Epoch 44/100\n",
            "100000/100000 - 4s - loss: 0.3830\n",
            "Epoch 45/100\n",
            "100000/100000 - 4s - loss: 0.3838\n",
            "Epoch 46/100\n",
            "100000/100000 - 4s - loss: 0.3829\n",
            "Epoch 47/100\n",
            "100000/100000 - 4s - loss: 0.3813\n",
            "Epoch 48/100\n",
            "100000/100000 - 4s - loss: 0.3812\n",
            "Epoch 49/100\n",
            "100000/100000 - 4s - loss: 0.3789\n",
            "Epoch 50/100\n",
            "100000/100000 - 4s - loss: 0.3825\n",
            "Epoch 51/100\n",
            "100000/100000 - 4s - loss: 0.3836\n",
            "Epoch 52/100\n",
            "100000/100000 - 4s - loss: 0.3841\n",
            "Epoch 53/100\n",
            "100000/100000 - 4s - loss: 0.3808\n",
            "Epoch 54/100\n",
            "100000/100000 - 4s - loss: 0.3839\n",
            "Epoch 55/100\n",
            "100000/100000 - 4s - loss: 0.3826\n",
            "Epoch 56/100\n",
            "100000/100000 - 4s - loss: 0.3799\n",
            "Epoch 57/100\n",
            "100000/100000 - 4s - loss: 0.3803\n",
            "Epoch 58/100\n",
            "100000/100000 - 4s - loss: 0.3817\n",
            "Epoch 59/100\n",
            "100000/100000 - 4s - loss: 0.3835\n",
            "Epoch 60/100\n",
            "100000/100000 - 4s - loss: 0.3828\n",
            "Epoch 61/100\n",
            "100000/100000 - 4s - loss: 0.3807\n",
            "Epoch 62/100\n",
            "100000/100000 - 4s - loss: 0.3824\n",
            "Epoch 63/100\n",
            "100000/100000 - 4s - loss: 0.3821\n",
            "Epoch 64/100\n",
            "100000/100000 - 4s - loss: 0.3829\n",
            "Epoch 65/100\n",
            "100000/100000 - 4s - loss: 0.3829\n",
            "Epoch 66/100\n",
            "100000/100000 - 4s - loss: 0.3831\n",
            "Epoch 67/100\n",
            "100000/100000 - 4s - loss: 0.3803\n",
            "Epoch 68/100\n",
            "100000/100000 - 4s - loss: 0.3816\n",
            "Epoch 69/100\n",
            "100000/100000 - 4s - loss: 0.3783\n",
            "Epoch 70/100\n",
            "100000/100000 - 4s - loss: 0.3815\n",
            "Epoch 71/100\n",
            "100000/100000 - 4s - loss: 0.3847\n",
            "Epoch 72/100\n",
            "100000/100000 - 4s - loss: 0.3828\n",
            "Epoch 73/100\n",
            "100000/100000 - 4s - loss: 0.3840\n",
            "Epoch 74/100\n",
            "100000/100000 - 4s - loss: 0.3810\n",
            "Epoch 75/100\n",
            "100000/100000 - 4s - loss: 0.3839\n",
            "Epoch 76/100\n",
            "100000/100000 - 4s - loss: 0.3814\n",
            "Epoch 77/100\n",
            "100000/100000 - 4s - loss: 0.3801\n",
            "Epoch 78/100\n",
            "100000/100000 - 4s - loss: 0.3847\n",
            "Epoch 79/100\n",
            "100000/100000 - 4s - loss: 0.3858\n",
            "Epoch 80/100\n",
            "100000/100000 - 4s - loss: 0.3823\n",
            "Epoch 81/100\n",
            "100000/100000 - 4s - loss: 0.3830\n",
            "Epoch 82/100\n",
            "100000/100000 - 4s - loss: 0.3809\n",
            "Epoch 83/100\n",
            "100000/100000 - 4s - loss: 0.3829\n",
            "Epoch 84/100\n",
            "100000/100000 - 4s - loss: 0.3811\n",
            "Epoch 85/100\n",
            "100000/100000 - 4s - loss: 0.3822\n",
            "Epoch 86/100\n",
            "100000/100000 - 4s - loss: 0.3834\n",
            "Epoch 87/100\n",
            "100000/100000 - 4s - loss: 0.3829\n",
            "Epoch 88/100\n",
            "100000/100000 - 4s - loss: 0.3811\n",
            "Epoch 89/100\n",
            "100000/100000 - 4s - loss: 0.3833\n",
            "Epoch 90/100\n",
            "100000/100000 - 4s - loss: 0.3834\n",
            "Epoch 91/100\n",
            "100000/100000 - 4s - loss: 0.3818\n",
            "Epoch 92/100\n",
            "100000/100000 - 4s - loss: 0.3813\n",
            "Epoch 93/100\n",
            "100000/100000 - 4s - loss: 0.3813\n",
            "Epoch 94/100\n",
            "100000/100000 - 4s - loss: 0.3844\n",
            "Epoch 95/100\n",
            "100000/100000 - 4s - loss: 0.3831\n",
            "Epoch 96/100\n",
            "100000/100000 - 4s - loss: 0.3831\n",
            "Epoch 97/100\n",
            "100000/100000 - 4s - loss: 0.3835\n",
            "Epoch 98/100\n",
            "100000/100000 - 4s - loss: 0.3791\n",
            "Epoch 99/100\n",
            "100000/100000 - 4s - loss: 0.3837\n",
            "Epoch 100/100\n",
            "100000/100000 - 4s - loss: 0.3784\n"
          ],
          "name": "stdout"
        },
        {
          "output_type": "execute_result",
          "data": {
            "text/plain": [
              "<tensorflow.python.keras.callbacks.History at 0x7f5bab26db38>"
            ]
          },
          "metadata": {
            "tags": []
          },
          "execution_count": 27
        }
      ]
    },
    {
      "cell_type": "code",
      "metadata": {
        "id": "ugrCH09jxIOU",
        "colab_type": "code",
        "colab": {
          "base_uri": "https://localhost:8080/",
          "height": 50
        },
        "outputId": "2d731c83-1f1e-46f4-d721-2678c866ce38"
      },
      "source": [
        "#[0] is the position layer whose weights we are interested in\n",
        "model.layers[0].get_weights()\n"
      ],
      "execution_count": 28,
      "outputs": [
        {
          "output_type": "execute_result",
          "data": {
            "text/plain": [
              "[array([[ 2.0060322],\n",
              "        [-3.018317 ]], dtype=float32), array([5.0068145], dtype=float32)]"
            ]
          },
          "metadata": {
            "tags": []
          },
          "execution_count": 28
        }
      ]
    },
    {
      "cell_type": "code",
      "metadata": {
        "id": "YEsjj9hDxIhc",
        "colab_type": "code",
        "colab": {
          "base_uri": "https://localhost:8080/",
          "height": 50
        },
        "outputId": "927a53ce-2972-4fe2-b7f5-e469a8b46263"
      },
      "source": [
        "weights = model.layers[0].get_weights()[0]\n",
        "weights"
      ],
      "execution_count": 29,
      "outputs": [
        {
          "output_type": "execute_result",
          "data": {
            "text/plain": [
              "array([[ 2.0060322],\n",
              "       [-3.018317 ]], dtype=float32)"
            ]
          },
          "metadata": {
            "tags": []
          },
          "execution_count": 29
        }
      ]
    },
    {
      "cell_type": "code",
      "metadata": {
        "id": "MMdryUxvxIsI",
        "colab_type": "code",
        "colab": {
          "base_uri": "https://localhost:8080/",
          "height": 34
        },
        "outputId": "2824fe96-32b9-4be0-f3a1-9a5a62158cca"
      },
      "source": [
        "bias = model.layers[0].get_weights()[1]\n",
        "bias"
      ],
      "execution_count": 30,
      "outputs": [
        {
          "output_type": "execute_result",
          "data": {
            "text/plain": [
              "array([5.0068145], dtype=float32)"
            ]
          },
          "metadata": {
            "tags": []
          },
          "execution_count": 30
        }
      ]
    },
    {
      "cell_type": "code",
      "metadata": {
        "id": "djbDCxixxTf7",
        "colab_type": "code",
        "colab": {
          "base_uri": "https://localhost:8080/",
          "height": 134
        },
        "outputId": "c7d0b4d8-b0b8-4c19-a7e2-2496905b4aa0"
      },
      "source": [
        "model.predict_on_batch(training_data['inputs'])"
      ],
      "execution_count": 31,
      "outputs": [
        {
          "output_type": "execute_result",
          "data": {
            "text/plain": [
              "array([[ 32.98804  ],\n",
              "       [ 16.131798 ],\n",
              "       [ -6.1845613],\n",
              "       ...,\n",
              "       [  3.0987716],\n",
              "       [-35.7277   ],\n",
              "       [  9.381792 ]], dtype=float32)"
            ]
          },
          "metadata": {
            "tags": []
          },
          "execution_count": 31
        }
      ]
    },
    {
      "cell_type": "code",
      "metadata": {
        "id": "dOpgfs9ExTk0",
        "colab_type": "code",
        "colab": {
          "base_uri": "https://localhost:8080/",
          "height": 134
        },
        "outputId": "d66dcf66-db99-4fc3-ff54-e8dd52c52c78"
      },
      "source": [
        "model.predict_on_batch(training_data['inputs']).round(1)"
      ],
      "execution_count": 32,
      "outputs": [
        {
          "output_type": "execute_result",
          "data": {
            "text/plain": [
              "array([[ 33. ],\n",
              "       [ 16.1],\n",
              "       [ -6.2],\n",
              "       ...,\n",
              "       [  3.1],\n",
              "       [-35.7],\n",
              "       [  9.4]], dtype=float32)"
            ]
          },
          "metadata": {
            "tags": []
          },
          "execution_count": 32
        }
      ]
    },
    {
      "cell_type": "code",
      "metadata": {
        "id": "WgE6vil-xTqr",
        "colab_type": "code",
        "colab": {
          "base_uri": "https://localhost:8080/",
          "height": 134
        },
        "outputId": "d6323635-3d2d-4406-a3a7-0cc5a9a12795"
      },
      "source": [
        "training_data['inputs'].round(1)"
      ],
      "execution_count": 33,
      "outputs": [
        {
          "output_type": "execute_result",
          "data": {
            "text/plain": [
              "array([[-0.1, -9.4],\n",
              "       [ 0. , -3.7],\n",
              "       [ 5.9,  7.6],\n",
              "       ...,\n",
              "       [-6.5, -3.7],\n",
              "       [-8.8,  7.6],\n",
              "       [-7.9, -6.7]])"
            ]
          },
          "metadata": {
            "tags": []
          },
          "execution_count": 33
        }
      ]
    },
    {
      "cell_type": "code",
      "metadata": {
        "id": "oHxBQYv_xToV",
        "colab_type": "code",
        "colab": {
          "base_uri": "https://localhost:8080/",
          "height": 286
        },
        "outputId": "211c251e-8ed1-4c84-add3-b9d93f035058"
      },
      "source": [
        "plt.plot(np.squeeze(model.predict_on_batch(training_data['inputs'])),np.squeeze(training_data['targets']))"
      ],
      "execution_count": 34,
      "outputs": [
        {
          "output_type": "execute_result",
          "data": {
            "text/plain": [
              "[<matplotlib.lines.Line2D at 0x7f5b78599400>]"
            ]
          },
          "metadata": {
            "tags": []
          },
          "execution_count": 34
        },
        {
          "output_type": "display_data",
          "data": {
            "image/png": "[encoded data removed]",
            "text/plain": [
              "<Figure size 432x288 with 1 Axes>"
            ]
          },
          "metadata": {
            "tags": []
          }
        }
      ]
    },
    {
      "cell_type": "markdown",
      "metadata": {
        "id": "xPRWNia6x0Fg",
        "colab_type": "text"
      },
      "source": [
        "Using the same code as before, please solve the following exercises\n",
        "\n",
        "1. Change the number of observations to 1000,000 and see what happens.\n",
        "\n",
        "2. Play around with the learning rate. Values like 0.0001, 0.001, 0.1, 1 are all interesting to observe.\n",
        "\n",
        "3. Change the loss function. An alternative loss for regressions is the Huber loss."
      ]
    },
    {
      "cell_type": "code",
      "metadata": {
        "id": "iam9U-VMx1wN",
        "colab_type": "code",
        "colab": {}
      },
      "source": [
        "# First, we should declare a variable containing the size of the training set we want to generate.\n",
        "observations = 1000000\n",
        "\n",
        "# We will work with two variables as inputs. You can think about them as x1 and x2 in our previous examples.\n",
        "# We have picked x and z, since it is easier to differentiate them.\n",
        "# We generate them randomly, drawing from an uniform distribution. There are 3 arguments of this method (low, high, size).\n",
        "# The size of xs and zs is observations x 1. In this case: 1000 x 1.\n",
        "xs = np.random.uniform(low=-10, high=10, size=(observations,1))\n",
        "zs = np.random.uniform(-10, 10, (observations,1))\n",
        "\n",
        "# Combine the two dimensions of the input into one input matrix. \n",
        "# This is the X matrix from the linear model y = x*w + b.\n",
        "# column_stack is a Numpy method, which combines two matrices (vectors) into one.\n",
        "generated_inputs = np.column_stack((xs,zs))\n",
        "\n",
        "# We add a random small noise to the function i.e. f(x,z) = 2x - 3z + 5 + <small noise>\n",
        "noise = np.random.uniform(-1, 1, (observations,1))\n",
        "\n",
        "# Produce the targets according to our f(x,z) = 2x - 3z + 5 + noise definition.\n",
        "# In this way, we are basically saying: the weights should be 2 and -3, while the bias is 5.\n",
        "generated_targets = 2*xs - 3*zs + 5 + noise\n",
        "\n",
        "# save into an npz file called \"TF_intro\"\n",
        "np.savez('/content/ANN_DL_ML/TF_intro_b', inputs=generated_inputs, targets=generated_targets)"
      ],
      "execution_count": 0,
      "outputs": []
    },
    {
      "cell_type": "code",
      "metadata": {
        "id": "yQ8KsDvKx2CJ",
        "colab_type": "code",
        "colab": {}
      },
      "source": [
        "training_data = np.load('/content/ANN_DL_ML/TF_intro_b.npz')"
      ],
      "execution_count": 0,
      "outputs": []
    },
    {
      "cell_type": "code",
      "metadata": {
        "id": "wY0ZnNsPx2Hw",
        "colab_type": "code",
        "colab": {
          "base_uri": "https://localhost:8080/",
          "height": 1000
        },
        "outputId": "a3da717f-3d26-4f54-a2b4-41a9fc0a4d1a"
      },
      "source": [
        "input_size = 2\n",
        "output_size = 1\n",
        "#We build the model, necessary when using tensorflow\n",
        "\n",
        "#tf.keras.layers.Dense(output size) takes the inputs provided to the model and \n",
        "#calculates the dot productof the inputsand he weights and add bias\n",
        "#kernel_initializer and bias initializer initialize weights and biases\n",
        "model = tf.keras.Sequential([\n",
        "    tf.keras.layers.Dense(output_size\n",
        "                         )\n",
        "])\n",
        "#Customize optimizer\n",
        "custom_optimizer = tf.keras.optimizers.SGD(learning_rate=0.02)\n",
        "model.compile(optimizer = custom_optimizer, loss = 'huber_loss')\n",
        "#model.compile(optimizer,loss) configures the model for training\n",
        "\n",
        "#Which deta tensorflow has to fit?\n",
        "#model.fit(inputs,targets) fits (trains) the model\n",
        "\n",
        "model.fit(training_data['inputs'], training_data['targets'], epochs = 100, verbose = 2) # verbose = 0 is for not showing progress bar"
      ],
      "execution_count": 0,
      "outputs": [
        {
          "output_type": "stream",
          "text": [
            "W0724 16:28:28.362004 140032364136320 deprecation.py:323] From /usr/local/lib/python3.6/dist-packages/tensorflow/python/ops/math_grad.py:1250: add_dispatch_support.<locals>.wrapper (from tensorflow.python.ops.array_ops) is deprecated and will be removed in a future version.\n",
            "Instructions for updating:\n",
            "Use tf.where in 2.0, which has the same broadcast rule as np.where\n"
          ],
          "name": "stderr"
        },
        {
          "output_type": "stream",
          "text": [
            "Epoch 1/100\n",
            "1000000/1000000 - 42s - loss: 0.2026\n",
            "Epoch 2/100\n",
            "1000000/1000000 - 42s - loss: 0.1718\n",
            "Epoch 3/100\n",
            "1000000/1000000 - 42s - loss: 0.1718\n",
            "Epoch 4/100\n",
            "1000000/1000000 - 42s - loss: 0.1719\n",
            "Epoch 5/100\n",
            "1000000/1000000 - 42s - loss: 0.1718\n",
            "Epoch 6/100\n",
            "1000000/1000000 - 42s - loss: 0.1719\n",
            "Epoch 7/100\n",
            "1000000/1000000 - 42s - loss: 0.1718\n",
            "Epoch 8/100\n",
            "1000000/1000000 - 42s - loss: 0.1719\n",
            "Epoch 9/100\n",
            "1000000/1000000 - 43s - loss: 0.1718\n",
            "Epoch 10/100\n",
            "1000000/1000000 - 42s - loss: 0.1720\n",
            "Epoch 11/100\n",
            "1000000/1000000 - 42s - loss: 0.1720\n",
            "Epoch 12/100\n",
            "1000000/1000000 - 42s - loss: 0.1718\n",
            "Epoch 13/100\n",
            "1000000/1000000 - 42s - loss: 0.1719\n",
            "Epoch 14/100\n",
            "1000000/1000000 - 42s - loss: 0.1719\n",
            "Epoch 15/100\n",
            "1000000/1000000 - 42s - loss: 0.1719\n",
            "Epoch 16/100\n",
            "1000000/1000000 - 42s - loss: 0.1719\n",
            "Epoch 17/100\n",
            "1000000/1000000 - 42s - loss: 0.1718\n",
            "Epoch 18/100\n",
            "1000000/1000000 - 42s - loss: 0.1718\n",
            "Epoch 19/100\n",
            "1000000/1000000 - 42s - loss: 0.1719\n",
            "Epoch 20/100\n",
            "1000000/1000000 - 42s - loss: 0.1718\n",
            "Epoch 21/100\n",
            "1000000/1000000 - 42s - loss: 0.1718\n",
            "Epoch 22/100\n",
            "1000000/1000000 - 42s - loss: 0.1718\n",
            "Epoch 23/100\n",
            "1000000/1000000 - 42s - loss: 0.1718\n",
            "Epoch 24/100\n",
            "1000000/1000000 - 43s - loss: 0.1718\n",
            "Epoch 25/100\n",
            "1000000/1000000 - 42s - loss: 0.1719\n",
            "Epoch 26/100\n",
            "1000000/1000000 - 42s - loss: 0.1719\n",
            "Epoch 27/100\n",
            "1000000/1000000 - 42s - loss: 0.1719\n",
            "Epoch 28/100\n",
            "1000000/1000000 - 42s - loss: 0.1719\n",
            "Epoch 29/100\n",
            "1000000/1000000 - 42s - loss: 0.1719\n",
            "Epoch 30/100\n",
            "1000000/1000000 - 42s - loss: 0.1718\n",
            "Epoch 31/100\n",
            "1000000/1000000 - 42s - loss: 0.1719\n",
            "Epoch 32/100\n",
            "1000000/1000000 - 42s - loss: 0.1718\n",
            "Epoch 33/100\n",
            "1000000/1000000 - 42s - loss: 0.1719\n",
            "Epoch 34/100\n"
          ],
          "name": "stdout"
        }
      ]
    },
    {
      "cell_type": "code",
      "metadata": {
        "id": "MJEUwYGix2Kh",
        "colab_type": "code",
        "colab": {}
      },
      "source": [
        "model.layers[0].get_weights()"
      ],
      "execution_count": 0,
      "outputs": []
    },
    {
      "cell_type": "code",
      "metadata": {
        "id": "9yJX7BSMx2M7",
        "colab_type": "code",
        "colab": {}
      },
      "source": [
        "weights=model.layers[0].get_weights()[0]\n",
        "weights"
      ],
      "execution_count": 0,
      "outputs": []
    },
    {
      "cell_type": "code",
      "metadata": {
        "id": "tkXCqAEfx2PQ",
        "colab_type": "code",
        "colab": {}
      },
      "source": [
        "bias=model.layers[0].get_weights()[1]\n",
        "bias"
      ],
      "execution_count": 0,
      "outputs": []
    },
    {
      "cell_type": "code",
      "metadata": {
        "id": "sCS4v-iHx2R5",
        "colab_type": "code",
        "colab": {}
      },
      "source": [
        "model.predict_on_batch(training_data['inputs'])"
      ],
      "execution_count": 0,
      "outputs": []
    },
    {
      "cell_type": "code",
      "metadata": {
        "id": "CXrgjGh-x2UY",
        "colab_type": "code",
        "colab": {}
      },
      "source": [
        "model.predict_on_batch(training_data['inputs']).round(1)"
      ],
      "execution_count": 0,
      "outputs": []
    },
    {
      "cell_type": "code",
      "metadata": {
        "id": "dwwOJE0cx2XP",
        "colab_type": "code",
        "colab": {}
      },
      "source": [
        "training_data['inputs'].round(1)"
      ],
      "execution_count": 0,
      "outputs": []
    },
    {
      "cell_type": "code",
      "metadata": {
        "id": "qLh0KU_mx2Zv",
        "colab_type": "code",
        "colab": {}
      },
      "source": [
        "plt.plot(np.squeeze(model.predict_on_batch(training_data['inputs'])),np.squeeze(training_data['targets']))"
      ],
      "execution_count": 0,
      "outputs": []
    }
  ]
}