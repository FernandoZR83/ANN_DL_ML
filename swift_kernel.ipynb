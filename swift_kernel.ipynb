{
  "nbformat": 4,
  "nbformat_minor": 0,
  "metadata": {
    "colab": {
      "name": "swift_kernel.ipynb",
      "version": "0.3.2",
      "provenance": [],
      "collapsed_sections": [],
      "include_colab_link": true
    },
    "kernelspec": {
      "name": "python3",
      "display_name": "Python 3"
    }
  },
  "cells": [
    {
      "cell_type": "markdown",
      "metadata": {
        "id": "view-in-github",
        "colab_type": "text"
      },
      "source": [
        "<a href=\"https://colab.research.google.com/github/FernandoZR83/ANN_DL_ML/blob/master/swift_kernel.ipynb\" target=\"_parent\"><img src=\"https://colab.research.google.com/assets/colab-badge.svg\" alt=\"Open In Colab\"/></a>"
      ]
    },
    {
      "cell_type": "code",
      "metadata": {
        "id": "UcClJJwAdU-0",
        "colab_type": "code",
        "colab": {
          "base_uri": "https://localhost:8080/",
          "height": 101
        },
        "outputId": "05997b8b-fa8f-407e-f73e-8038ba72524c"
      },
      "source": [
        "!echo \"The currently installed Swift build is:\"\n",
        "!/swift/toolchain/usr/bin/swift --version\n",
        "!echo \"\"\n",
        "!echo \"Installing the latest Swift build...\"\n",
        "!echo \"\"\n",
        "\n",
        "# Delete the current Swift installation\n",
        "!rm -rf /swift\n",
        "\n",
        "# Download and extract the swift toolchain\n",
        "!mkdir -p /swift/toolchain\n",
        "!wget -nv -O- https://storage.googleapis.com/swift-tensorflow-artifacts/nightlies/latest/swift-tensorflow-DEVELOPMENT-cuda10.0-cudnn7-ubuntu18.04.tar.gz | tar xzf - -C /swift/toolchain\n",
        "\n",
        "# Download and register the swift kernel\n",
        "!wget -nv -O- https://storage.googleapis.com/swift-tensorflow-artifacts/nightlies/latest/swift-jupyter.tar.gz | tar xzf - -C /swift\n",
        "!python3 /swift/swift-jupyter/register.py --swift-toolchain /swift/toolchain\n",
        "\n",
        "# Need to install libblocksruntime-dev for package installation to work\n",
        "!sudo apt-get install libblocksruntime-dev\n",
        "\n",
        "!echo \"\"\n",
        "!echo \"The newly installed Swift build is:\"\n",
        "!/swift/toolchain/usr/bin/swift --version"
      ],
      "execution_count": 1,
      "outputs": [
        {
          "output_type": "stream",
          "text": [
            "Available kernels:\n",
            "  ir         /usr/local/share/jupyter/kernels/ir\n",
            "  python2    /usr/local/share/jupyter/kernels/python2\n",
            "  python3    /usr/local/share/jupyter/kernels/python3\n",
            "  swift      /usr/local/share/jupyter/kernels/swift\n"
          ],
          "name": "stdout"
        }
      ]
    }
  ]
}