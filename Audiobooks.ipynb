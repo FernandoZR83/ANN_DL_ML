{
  "nbformat": 4,
  "nbformat_minor": 0,
  "metadata": {
    "colab": {
      "name": "Audiobooks.ipynb",
      "version": "0.3.2",
      "provenance": [],
      "collapsed_sections": [],
      "include_colab_link": true
    },
    "kernelspec": {
      "name": "python3",
      "display_name": "Python 3"
    },
    "accelerator": "GPU"
  },
  "cells": [
    {
      "cell_type": "markdown",
      "metadata": {
        "id": "view-in-github",
        "colab_type": "text"
      },
      "source": [
        "<a href=\"https://colab.research.google.com/github/FernandoZR83/ANN_DL_ML/blob/master/Audiobooks.ipynb\" target=\"_parent\"><img src=\"https://colab.research.google.com/assets/colab-badge.svg\" alt=\"Open In Colab\"/></a>"
      ]
    },
    {
      "cell_type": "markdown",
      "metadata": {
        "id": "0Cqh7BvSGcwS",
        "colab_type": "text"
      },
      "source": [
        "Create a ML models capable to prdict whether a customer will buy an audiobook again or not"
      ]
    },
    {
      "cell_type": "markdown",
      "metadata": {
        "id": "ocUDonATYrNL",
        "colab_type": "text"
      },
      "source": [
        "Balancing the dataset\n"
      ]
    },
    {
      "cell_type": "code",
      "metadata": {
        "id": "MpoaaHlcwDGv",
        "colab_type": "code",
        "colab": {}
      },
      "source": [
        "import pandas as pd\n",
        "import sklearn as sk\n",
        "import numpy as np\n",
        "from sklearn import preprocessing\n",
        "import tensorflow as tf"
      ],
      "execution_count": 0,
      "outputs": []
    },
    {
      "cell_type": "code",
      "metadata": {
        "id": "GgRSGat_bY6L",
        "colab_type": "code",
        "colab": {}
      },
      "source": [
        "from google.colab import files"
      ],
      "execution_count": 0,
      "outputs": []
    },
    {
      "cell_type": "code",
      "metadata": {
        "id": "9RTr-SFivVGP",
        "colab_type": "code",
        "colab": {
          "resources": {
            "http://localhost:8080/nbextensions/google.colab/files.js": {
              "data": "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",
              "ok": true,
              "headers": [
                [
                  "content-type",
                  "application/javascript"
                ]
              ],
              "status": 200,
              "status_text": ""
            }
          },
          "base_uri": "https://localhost:8080/",
          "height": 74
        },
        "outputId": "3e213657-92c2-46e2-c517-fa5042bdbd2f"
      },
      "source": [
        "data = files.upload()"
      ],
      "execution_count": 3,
      "outputs": [
        {
          "output_type": "display_data",
          "data": {
            "text/html": [
              "\n",
              "     <input type=\"file\" id=\"files-92b9ef8a-1c11-4dc6-857b-9b430909fbd8\" name=\"files[]\" multiple disabled />\n",
              "     <output id=\"result-92b9ef8a-1c11-4dc6-857b-9b430909fbd8\">\n",
              "      Upload widget is only available when the cell has been executed in the\n",
              "      current browser session. Please rerun this cell to enable.\n",
              "      </output>\n",
              "      <script src=\"/nbextensions/google.colab/files.js\"></script> "
            ],
            "text/plain": [
              "<IPython.core.display.HTML object>"
            ]
          },
          "metadata": {
            "tags": []
          }
        },
        {
          "output_type": "stream",
          "text": [
            "Saving Audiobooks_data.csv to Audiobooks_data.csv\n"
          ],
          "name": "stdout"
        }
      ]
    },
    {
      "cell_type": "code",
      "metadata": {
        "id": "rI5AuDgYhWhu",
        "colab_type": "code",
        "colab": {}
      },
      "source": [
        "raw_csv_data = np.loadtxt('Audiobooks_data.csv', delimiter=',')"
      ],
      "execution_count": 0,
      "outputs": []
    },
    {
      "cell_type": "code",
      "metadata": {
        "id": "-ACWPC27wXEX",
        "colab_type": "code",
        "colab": {
          "base_uri": "https://localhost:8080/",
          "height": 168
        },
        "outputId": "24e74a76-38c5-4526-e5a7-33e8088d780f"
      },
      "source": [
        "unscaled_inputs_all = raw_csv_data[:,1:-1]\n",
        "targets_all = raw_csv_data[:,-1] #Last column of the csv\n",
        "\n",
        "print(\"unsclaed_inputs: \", unscaled_inputs_all)\n",
        "print(\"targets: \", targets_all)\n",
        "print(unscaled_inputs_all.shape, targets_all.shape)"
      ],
      "execution_count": 5,
      "outputs": [
        {
          "output_type": "stream",
          "text": [
            "unsclaed_inputs:  [[1620.   1620.     19.73 ... 1603.8     5.     92.  ]\n",
            " [2160.   2160.      5.33 ...    0.      0.      0.  ]\n",
            " [2160.   2160.      5.33 ...    0.      0.    388.  ]\n",
            " ...\n",
            " [2160.   2160.      6.14 ...    0.      0.      0.  ]\n",
            " [1620.   1620.      5.33 ...  615.6     0.     90.  ]\n",
            " [1674.   3348.      5.33 ...    0.      0.      0.  ]]\n",
            "targets:  [0. 0. 0. ... 0. 0. 1.]\n",
            "(14084, 10) (14084,)\n"
          ],
          "name": "stdout"
        }
      ]
    },
    {
      "cell_type": "markdown",
      "metadata": {
        "id": "mVP4wZjP2dIu",
        "colab_type": "text"
      },
      "source": [
        "Balance the data"
      ]
    },
    {
      "cell_type": "code",
      "metadata": {
        "id": "0VvDLIYD2dVu",
        "colab_type": "code",
        "colab": {
          "base_uri": "https://localhost:8080/",
          "height": 168
        },
        "outputId": "4679d853-0e41-4335-d4c7-d5bd2bb30a93"
      },
      "source": [
        "#Our aim first is to know how many ones we have as targets\n",
        "num_one_targets = int(np.sum(targets_all))\n",
        "print(num_one_targets)\n",
        "zero_targets_counter = 0\n",
        "indices_to_remove = [] #This variable can be either list or tuple so we use empty brackets, contains indices to remove\n",
        "\n",
        "#Iterate over the dataset and balance it\n",
        "\n",
        "for i in range(targets_all.shape[0]):\n",
        "  if targets_all[i] == 0:\n",
        "    zero_targets_counter += 1\n",
        "    if zero_targets_counter > num_one_targets:\n",
        "      indices_to_remove.append(i)\n",
        "      #if the target at position i is zero and number of zeros is bigger than number \n",
        "      #of ones, i'll know the indices of the elements that need to be removed\n",
        "\n",
        "unscaled_inputs_equal_priors = np.delete(unscaled_inputs_all, indices_to_remove, axis = 0)\n",
        "targets_equal_priors = np.delete(targets_all, indices_to_remove, axis = 0)\n",
        "print(unscaled_inputs_equal_priors)\n",
        "print(targets_equal_priors)"
      ],
      "execution_count": 6,
      "outputs": [
        {
          "output_type": "stream",
          "text": [
            "2237\n",
            "[[1620.   1620.     19.73 ... 1603.8     5.     92.  ]\n",
            " [2160.   2160.      5.33 ...    0.      0.      0.  ]\n",
            " [2160.   2160.      5.33 ...    0.      0.    388.  ]\n",
            " ...\n",
            " [2160.   2160.      5.33 ...    0.      0.      6.  ]\n",
            " [1674.   3348.      7.99 ...    0.      0.      0.  ]\n",
            " [1674.   3348.      5.33 ...    0.      0.      0.  ]]\n",
            "[0. 0. 0. ... 1. 1. 1.]\n"
          ],
          "name": "stdout"
        }
      ]
    },
    {
      "cell_type": "markdown",
      "metadata": {
        "id": "cbydGA2BB7bq",
        "colab_type": "text"
      },
      "source": [
        "Standardize inputs"
      ]
    },
    {
      "cell_type": "code",
      "metadata": {
        "id": "hpDOTEOW2dYb",
        "colab_type": "code",
        "colab": {
          "base_uri": "https://localhost:8080/",
          "height": 235
        },
        "outputId": "1696ee76-4659-402d-e442-9c147dcf3280"
      },
      "source": [
        "scaled_inputs = preprocessing.scale(unscaled_inputs_equal_priors)\n",
        "print(scaled_inputs)"
      ],
      "execution_count": 7,
      "outputs": [
        {
          "output_type": "stream",
          "text": [
            "[[ 0.21053387 -0.18888517  1.97823887 ...  4.80955413 11.83828419\n",
            "   0.09415043]\n",
            " [ 1.27894497  0.41646744 -0.39082475 ... -0.41569922 -0.20183481\n",
            "  -0.80255852]\n",
            " [ 1.27894497  0.41646744 -0.39082475 ... -0.41569922 -0.20183481\n",
            "   2.979214  ]\n",
            " ...\n",
            " [ 1.27894497  0.41646744 -0.39082475 ... -0.41569922 -0.20183481\n",
            "  -0.7440775 ]\n",
            " [ 0.31737498  1.7482432   0.04679395 ... -0.41569922 -0.20183481\n",
            "  -0.80255852]\n",
            " [ 0.31737498  1.7482432  -0.39082475 ... -0.41569922 -0.20183481\n",
            "  -0.80255852]]\n"
          ],
          "name": "stdout"
        }
      ]
    },
    {
      "cell_type": "markdown",
      "metadata": {
        "id": "jF8422ogEA3x",
        "colab_type": "text"
      },
      "source": [
        "Shuffle data"
      ]
    },
    {
      "cell_type": "code",
      "metadata": {
        "id": "2KBGNgpZ2dd7",
        "colab_type": "code",
        "colab": {}
      },
      "source": [
        "# When the data was collected it was actually arranged by date\n",
        "# Shuffle the indices of the data, so the data is not arranged in any way when we feed it.\n",
        "# Since we will be batching, we want the data to be as randomly spread out as possible\n",
        "shuffled_indices = np.arange(scaled_inputs.shape[0])\n",
        "np.random.shuffle(shuffled_indices)\n",
        "\n",
        "# Use the shuffled indices to shuffle the inputs and targets.\n",
        "shuffled_inputs = scaled_inputs[shuffled_indices]\n",
        "shuffled_targets = targets_equal_priors[shuffled_indices]"
      ],
      "execution_count": 0,
      "outputs": []
    },
    {
      "cell_type": "markdown",
      "metadata": {
        "id": "ADb4PzNvGwz1",
        "colab_type": "text"
      },
      "source": [
        "Split the dataset into train, validation and test"
      ]
    },
    {
      "cell_type": "code",
      "metadata": {
        "id": "VHtXfsoI2dhP",
        "colab_type": "code",
        "colab": {
          "base_uri": "https://localhost:8080/",
          "height": 67
        },
        "outputId": "63a7f681-c49c-4cf9-a2f0-bf179f480e69"
      },
      "source": [
        "# Count the total number of samples\n",
        "samples_count = shuffled_inputs.shape[0]\n",
        "\n",
        "# Count the samples in each subset, assuming we want 80-10-10 distribution of training, validation, and test.\n",
        "# Naturally, the numbers are integers.\n",
        "train_samples_count = int(0.8 * samples_count)\n",
        "validation_samples_count = int(0.1 * samples_count)\n",
        "\n",
        "# The 'test' dataset contains all remaining data.\n",
        "test_samples_count = samples_count - train_samples_count - validation_samples_count\n",
        "\n",
        "# Create variables that record the inputs and targets for training\n",
        "# In our shuffled dataset, they are the first \"train_samples_count\" observations\n",
        "train_inputs = shuffled_inputs[:train_samples_count]\n",
        "train_targets = shuffled_targets[:train_samples_count]\n",
        "\n",
        "# Create variables that record the inputs and targets for validation.\n",
        "# They are the next \"validation_samples_count\" observations, folllowing the \"train_samples_count\" we already assigned\n",
        "validation_inputs = shuffled_inputs[train_samples_count:train_samples_count+validation_samples_count]\n",
        "validation_targets = shuffled_targets[train_samples_count:train_samples_count+validation_samples_count]\n",
        "\n",
        "# Create variables that record the inputs and targets for test.\n",
        "# They are everything that is remaining.\n",
        "test_inputs = shuffled_inputs[train_samples_count+validation_samples_count:]\n",
        "test_targets = shuffled_targets[train_samples_count+validation_samples_count:]\n",
        "\n",
        "# We balanced our dataset to be 50-50 (for targets 0 and 1), but the training, validation, and test were \n",
        "# taken from a shuffled dataset. Check if they are balanced, too. Note that each time you rerun this code, \n",
        "# you will get different values, as each time they are shuffled randomly.\n",
        "# Normally you preprocess ONCE, so you need not rerun this code once it is done.\n",
        "# If you rerun this whole sheet, the npzs will be overwritten with your newly preprocessed data.\n",
        "\n",
        "# Print the number of targets that are 1s, the total number of samples, and the proportion for training, validation, and test.\n",
        "print(np.sum(train_targets), train_samples_count, np.sum(train_targets) / train_samples_count)\n",
        "print(np.sum(validation_targets), validation_samples_count, np.sum(validation_targets) / validation_samples_count)\n",
        "print(np.sum(test_targets), test_samples_count, np.sum(test_targets) / test_samples_count)"
      ],
      "execution_count": 9,
      "outputs": [
        {
          "output_type": "stream",
          "text": [
            "1776.0 3579 0.49622799664710815\n",
            "238.0 447 0.5324384787472036\n",
            "223.0 448 0.49776785714285715\n"
          ],
          "name": "stdout"
        }
      ]
    },
    {
      "cell_type": "markdown",
      "metadata": {
        "id": "tlgrTLk4HoPd",
        "colab_type": "text"
      },
      "source": [
        "Save the dataset in *.npz"
      ]
    },
    {
      "cell_type": "code",
      "metadata": {
        "id": "ZkbGDq8p2dkP",
        "colab_type": "code",
        "colab": {}
      },
      "source": [
        "# Save the three datasets in *.npz.\n",
        "# In the next lesson, you will see that it is extremely valuable to name them in such a coherent way!\n",
        "\n",
        "np.savez('Audiobooks_data_train', inputs=train_inputs, targets=train_targets)\n",
        "np.savez('Audiobooks_data_validation', inputs=validation_inputs, targets=validation_targets)\n",
        "np.savez('Audiobooks_data_test', inputs=test_inputs, targets=test_targets)"
      ],
      "execution_count": 0,
      "outputs": []
    },
    {
      "cell_type": "markdown",
      "metadata": {
        "id": "gH_k5op7_xPe",
        "colab_type": "text"
      },
      "source": [
        "Load data from npz files"
      ]
    },
    {
      "cell_type": "code",
      "metadata": {
        "id": "qvQ4NrxU2dnL",
        "colab_type": "code",
        "colab": {}
      },
      "source": [
        "npz = np.load('Audiobooks_data_train.npz')\n",
        "\n",
        "train_inputs=npz['inputs'].astype(np.float)\n",
        "train_targets=npz['targets'].astype(np.int)\n",
        "npz = np.load('Audiobooks_data_validation.npz')\n",
        "\n",
        "validation_inputs, validation_targets = npz['inputs'].astype(np.float), npz['targets'].astype(np.int)\n",
        "\n",
        "npz = np.load('Audiobooks_data_test.npz')\n",
        "\n",
        "test_inputs, test_targets = npz['inputs'].astype(np.float), npz['targets'].astype(np.int)\n"
      ],
      "execution_count": 0,
      "outputs": []
    },
    {
      "cell_type": "markdown",
      "metadata": {
        "id": "pBUgANG5ElqR",
        "colab_type": "text"
      },
      "source": [
        "Outline the model"
      ]
    },
    {
      "cell_type": "code",
      "metadata": {
        "id": "MWqGaMZTDij4",
        "colab_type": "code",
        "colab": {
          "base_uri": "https://localhost:8080/",
          "height": 104
        },
        "outputId": "e1791a4f-428d-47a4-ec14-b77933b808de"
      },
      "source": [
        "input_size = 10\n",
        "output_size = 2 #one per digit\n",
        "hidden_layer_size = 50 #50 nodes per layer\n",
        "#tf.keras.sequential is a function used to \"stack layers\"\n",
        "#Our model's name is model\n",
        "model = tf.keras.Sequential([\n",
        "    #we need to flat images to get them a vector\n",
        "    #First line in sequential function is used to delcare our input layer\n",
        "    #tf.keras.layers.Flatten(input_shape = (28,28,1)),\n",
        "    #tf.keras.layers.Dense(output_size) takes the inputs, provided to the model and calculates the dot product of the\n",
        "    #inputs and the weights and adds the bias.\n",
        "    #This is also where we can apply an activation function\n",
        "    tf.keras.layers.Dense(hidden_layer_size, activation='relu'),\n",
        "    #We create the second hidden layer the same way\n",
        "    tf.keras.layers.Dense(hidden_layer_size, activation='relu'),\n",
        "    #Output layer\n",
        "    tf.keras.layers.Dense(output_size, activation = 'softmax')\n",
        "\n",
        "])"
      ],
      "execution_count": 12,
      "outputs": [
        {
          "output_type": "stream",
          "text": [
            "WARNING: Logging before flag parsing goes to stderr.\n",
            "W0731 03:54:32.423630 140319386036096 deprecation.py:506] From /usr/local/lib/python3.6/dist-packages/tensorflow/python/ops/init_ops.py:1251: calling VarianceScaling.__init__ (from tensorflow.python.ops.init_ops) with dtype is deprecated and will be removed in a future version.\n",
            "Instructions for updating:\n",
            "Call initializer instance with the dtype argument instead of passing it to the constructor\n"
          ],
          "name": "stderr"
        }
      ]
    },
    {
      "cell_type": "code",
      "metadata": {
        "id": "QttZrb0i2db7",
        "colab_type": "code",
        "colab": {}
      },
      "source": [
        "#model.compile(optimizer, loss, metrics) configures the model for training\n",
        "#custimze_model= tf.keras.optimizers.SGD(learning_rate=0.02)\n",
        "model.compile(optimizer='adam', loss='sparse_categorical_crossentropy', metrics = ['accuracy'])\n",
        "#model.summary()"
      ],
      "execution_count": 0,
      "outputs": []
    },
    {
      "cell_type": "code",
      "metadata": {
        "id": "aaWB59PqFAxd",
        "colab_type": "code",
        "colab": {
          "base_uri": "https://localhost:8080/",
          "height": 1000
        },
        "outputId": "2b544e17-8b9d-43b2-bc6d-5d7911d8de9d"
      },
      "source": [
        "#Batch size\n",
        "batch_size = 10\n",
        "\n",
        "#Choose number of epochs\n",
        "NUM_EPOCHS = 100\n",
        "\n",
        "model.fit(train_inputs, \n",
        "          train_targets,\n",
        "          batch_size = batch_size,          \n",
        "          epochs = NUM_EPOCHS, \n",
        "          validation_data=(validation_inputs, validation_targets),\n",
        "          verbose=1)"
      ],
      "execution_count": 23,
      "outputs": [
        {
          "output_type": "stream",
          "text": [
            "Train on 3579 samples, validate on 447 samples\n",
            "Epoch 1/100\n",
            "3579/3579 [==============================] - 2s 505us/sample - loss: 0.4744 - acc: 0.7390 - val_loss: 0.3984 - val_acc: 0.7852\n",
            "Epoch 2/100\n",
            "3579/3579 [==============================] - 1s 308us/sample - loss: 0.3835 - acc: 0.7840 - val_loss: 0.3618 - val_acc: 0.8166\n",
            "Epoch 3/100\n",
            "3579/3579 [==============================] - 1s 325us/sample - loss: 0.3645 - acc: 0.8002 - val_loss: 0.3769 - val_acc: 0.7964\n",
            "Epoch 4/100\n",
            "3579/3579 [==============================] - 1s 321us/sample - loss: 0.3569 - acc: 0.8025 - val_loss: 0.3589 - val_acc: 0.7897\n",
            "Epoch 5/100\n",
            "3579/3579 [==============================] - 1s 317us/sample - loss: 0.3538 - acc: 0.8025 - val_loss: 0.3523 - val_acc: 0.8188\n",
            "Epoch 6/100\n",
            "3579/3579 [==============================] - 1s 320us/sample - loss: 0.3495 - acc: 0.8122 - val_loss: 0.3423 - val_acc: 0.8121\n",
            "Epoch 7/100\n",
            "3579/3579 [==============================] - 1s 316us/sample - loss: 0.3428 - acc: 0.8161 - val_loss: 0.3578 - val_acc: 0.7919\n",
            "Epoch 8/100\n",
            "3579/3579 [==============================] - 1s 317us/sample - loss: 0.3407 - acc: 0.8139 - val_loss: 0.3590 - val_acc: 0.8054\n",
            "Epoch 9/100\n",
            "3579/3579 [==============================] - 1s 316us/sample - loss: 0.3365 - acc: 0.8153 - val_loss: 0.3562 - val_acc: 0.7942\n",
            "Epoch 10/100\n",
            "3579/3579 [==============================] - 1s 318us/sample - loss: 0.3380 - acc: 0.8094 - val_loss: 0.3308 - val_acc: 0.8188\n",
            "Epoch 11/100\n",
            "3579/3579 [==============================] - 1s 321us/sample - loss: 0.3389 - acc: 0.8150 - val_loss: 0.3494 - val_acc: 0.8054\n",
            "Epoch 12/100\n",
            "3579/3579 [==============================] - 1s 324us/sample - loss: 0.3371 - acc: 0.8111 - val_loss: 0.3549 - val_acc: 0.7987\n",
            "Epoch 13/100\n",
            "3579/3579 [==============================] - 1s 318us/sample - loss: 0.3304 - acc: 0.8170 - val_loss: 0.3549 - val_acc: 0.7875\n",
            "Epoch 14/100\n",
            "3579/3579 [==============================] - 1s 319us/sample - loss: 0.3348 - acc: 0.8142 - val_loss: 0.3416 - val_acc: 0.7919\n",
            "Epoch 15/100\n",
            "3579/3579 [==============================] - 1s 314us/sample - loss: 0.3280 - acc: 0.8217 - val_loss: 0.3723 - val_acc: 0.7673\n",
            "Epoch 16/100\n",
            "3579/3579 [==============================] - 1s 322us/sample - loss: 0.3284 - acc: 0.8203 - val_loss: 0.3484 - val_acc: 0.7964\n",
            "Epoch 17/100\n",
            "3579/3579 [==============================] - 1s 319us/sample - loss: 0.3291 - acc: 0.8178 - val_loss: 0.3346 - val_acc: 0.8300\n",
            "Epoch 18/100\n",
            "3579/3579 [==============================] - 1s 320us/sample - loss: 0.3295 - acc: 0.8153 - val_loss: 0.3511 - val_acc: 0.7987\n",
            "Epoch 19/100\n",
            "3579/3579 [==============================] - 1s 318us/sample - loss: 0.3266 - acc: 0.8209 - val_loss: 0.3528 - val_acc: 0.7919\n",
            "Epoch 20/100\n",
            "3579/3579 [==============================] - 1s 322us/sample - loss: 0.3294 - acc: 0.8136 - val_loss: 0.3451 - val_acc: 0.8098\n",
            "Epoch 21/100\n",
            "3579/3579 [==============================] - 1s 322us/sample - loss: 0.3264 - acc: 0.8237 - val_loss: 0.3436 - val_acc: 0.8076\n",
            "Epoch 22/100\n",
            "3579/3579 [==============================] - 1s 314us/sample - loss: 0.3251 - acc: 0.8198 - val_loss: 0.3492 - val_acc: 0.8098\n",
            "Epoch 23/100\n",
            "3579/3579 [==============================] - 1s 317us/sample - loss: 0.3244 - acc: 0.8198 - val_loss: 0.3469 - val_acc: 0.8143\n",
            "Epoch 24/100\n",
            "3579/3579 [==============================] - 1s 310us/sample - loss: 0.3231 - acc: 0.8206 - val_loss: 0.3348 - val_acc: 0.8076\n",
            "Epoch 25/100\n",
            "3579/3579 [==============================] - 1s 316us/sample - loss: 0.3217 - acc: 0.8270 - val_loss: 0.3591 - val_acc: 0.7964\n",
            "Epoch 26/100\n",
            "3579/3579 [==============================] - 1s 316us/sample - loss: 0.3240 - acc: 0.8195 - val_loss: 0.3417 - val_acc: 0.8076\n",
            "Epoch 27/100\n",
            "3579/3579 [==============================] - 1s 311us/sample - loss: 0.3217 - acc: 0.8212 - val_loss: 0.3567 - val_acc: 0.8098\n",
            "Epoch 28/100\n",
            "3579/3579 [==============================] - 1s 314us/sample - loss: 0.3205 - acc: 0.8265 - val_loss: 0.3399 - val_acc: 0.8143\n",
            "Epoch 29/100\n",
            "3579/3579 [==============================] - 1s 314us/sample - loss: 0.3204 - acc: 0.8203 - val_loss: 0.3423 - val_acc: 0.8054\n",
            "Epoch 30/100\n",
            "3579/3579 [==============================] - 1s 322us/sample - loss: 0.3212 - acc: 0.8212 - val_loss: 0.3378 - val_acc: 0.8143\n",
            "Epoch 31/100\n",
            "3579/3579 [==============================] - 1s 316us/sample - loss: 0.3228 - acc: 0.8217 - val_loss: 0.3497 - val_acc: 0.8166\n",
            "Epoch 32/100\n",
            "3579/3579 [==============================] - 1s 309us/sample - loss: 0.3191 - acc: 0.8237 - val_loss: 0.3563 - val_acc: 0.7852\n",
            "Epoch 33/100\n",
            "3579/3579 [==============================] - 1s 319us/sample - loss: 0.3183 - acc: 0.8231 - val_loss: 0.3508 - val_acc: 0.7987\n",
            "Epoch 34/100\n",
            "3579/3579 [==============================] - 1s 315us/sample - loss: 0.3200 - acc: 0.8237 - val_loss: 0.3449 - val_acc: 0.8098\n",
            "Epoch 35/100\n",
            "3579/3579 [==============================] - 1s 316us/sample - loss: 0.3208 - acc: 0.8237 - val_loss: 0.3483 - val_acc: 0.8031\n",
            "Epoch 36/100\n",
            "3579/3579 [==============================] - 1s 315us/sample - loss: 0.3178 - acc: 0.8209 - val_loss: 0.3458 - val_acc: 0.8009\n",
            "Epoch 37/100\n",
            "3579/3579 [==============================] - 1s 315us/sample - loss: 0.3163 - acc: 0.8248 - val_loss: 0.3422 - val_acc: 0.7942\n",
            "Epoch 38/100\n",
            "3579/3579 [==============================] - 1s 317us/sample - loss: 0.3215 - acc: 0.8223 - val_loss: 0.3429 - val_acc: 0.8009\n",
            "Epoch 39/100\n",
            "3579/3579 [==============================] - 1s 327us/sample - loss: 0.3199 - acc: 0.8237 - val_loss: 0.3562 - val_acc: 0.8098\n",
            "Epoch 40/100\n",
            "3579/3579 [==============================] - 1s 315us/sample - loss: 0.3230 - acc: 0.8209 - val_loss: 0.3685 - val_acc: 0.7830\n",
            "Epoch 41/100\n",
            "3579/3579 [==============================] - 1s 316us/sample - loss: 0.3176 - acc: 0.8284 - val_loss: 0.3470 - val_acc: 0.7964\n",
            "Epoch 42/100\n",
            "3579/3579 [==============================] - 1s 315us/sample - loss: 0.3158 - acc: 0.8268 - val_loss: 0.3565 - val_acc: 0.8031\n",
            "Epoch 43/100\n",
            "3579/3579 [==============================] - 1s 317us/sample - loss: 0.3135 - acc: 0.8270 - val_loss: 0.3454 - val_acc: 0.8121\n",
            "Epoch 44/100\n",
            "3579/3579 [==============================] - 1s 317us/sample - loss: 0.3188 - acc: 0.8262 - val_loss: 0.3453 - val_acc: 0.8076\n",
            "Epoch 45/100\n",
            "3579/3579 [==============================] - 1s 311us/sample - loss: 0.3190 - acc: 0.8215 - val_loss: 0.3377 - val_acc: 0.8166\n",
            "Epoch 46/100\n",
            "3579/3579 [==============================] - 1s 314us/sample - loss: 0.3165 - acc: 0.8284 - val_loss: 0.3386 - val_acc: 0.8076\n",
            "Epoch 47/100\n",
            "3579/3579 [==============================] - 1s 316us/sample - loss: 0.3195 - acc: 0.8215 - val_loss: 0.3453 - val_acc: 0.8031\n",
            "Epoch 48/100\n",
            "3579/3579 [==============================] - 1s 324us/sample - loss: 0.3166 - acc: 0.8279 - val_loss: 0.3501 - val_acc: 0.8121\n",
            "Epoch 49/100\n",
            "3579/3579 [==============================] - 1s 313us/sample - loss: 0.3170 - acc: 0.8243 - val_loss: 0.3421 - val_acc: 0.7964\n",
            "Epoch 50/100\n",
            "3579/3579 [==============================] - 1s 314us/sample - loss: 0.3166 - acc: 0.8206 - val_loss: 0.3348 - val_acc: 0.8098\n",
            "Epoch 51/100\n",
            "3579/3579 [==============================] - 1s 313us/sample - loss: 0.3144 - acc: 0.8223 - val_loss: 0.3944 - val_acc: 0.7740\n",
            "Epoch 52/100\n",
            "3579/3579 [==============================] - 1s 318us/sample - loss: 0.3153 - acc: 0.8287 - val_loss: 0.3578 - val_acc: 0.8054\n",
            "Epoch 53/100\n",
            "3579/3579 [==============================] - 1s 321us/sample - loss: 0.3157 - acc: 0.8181 - val_loss: 0.3480 - val_acc: 0.8121\n",
            "Epoch 54/100\n",
            "3579/3579 [==============================] - 1s 315us/sample - loss: 0.3166 - acc: 0.8265 - val_loss: 0.3501 - val_acc: 0.8076\n",
            "Epoch 55/100\n",
            "3579/3579 [==============================] - 1s 318us/sample - loss: 0.3164 - acc: 0.8237 - val_loss: 0.3455 - val_acc: 0.8054\n",
            "Epoch 56/100\n",
            "3579/3579 [==============================] - 1s 320us/sample - loss: 0.3173 - acc: 0.8259 - val_loss: 0.3459 - val_acc: 0.7919\n",
            "Epoch 57/100\n",
            "3579/3579 [==============================] - 1s 321us/sample - loss: 0.3133 - acc: 0.8201 - val_loss: 0.3518 - val_acc: 0.8009\n",
            "Epoch 58/100\n",
            "3579/3579 [==============================] - 1s 315us/sample - loss: 0.3150 - acc: 0.8223 - val_loss: 0.3406 - val_acc: 0.8031\n",
            "Epoch 59/100\n",
            "3579/3579 [==============================] - 1s 319us/sample - loss: 0.3107 - acc: 0.8301 - val_loss: 0.3395 - val_acc: 0.8054\n",
            "Epoch 60/100\n",
            "3579/3579 [==============================] - 1s 314us/sample - loss: 0.3132 - acc: 0.8273 - val_loss: 0.3310 - val_acc: 0.8188\n",
            "Epoch 61/100\n",
            "3579/3579 [==============================] - 1s 313us/sample - loss: 0.3126 - acc: 0.8290 - val_loss: 0.3577 - val_acc: 0.7942\n",
            "Epoch 62/100\n",
            "3579/3579 [==============================] - 1s 313us/sample - loss: 0.3175 - acc: 0.8156 - val_loss: 0.3426 - val_acc: 0.7919\n",
            "Epoch 63/100\n",
            "3579/3579 [==============================] - 1s 313us/sample - loss: 0.3120 - acc: 0.8265 - val_loss: 0.3473 - val_acc: 0.7964\n",
            "Epoch 64/100\n",
            "3579/3579 [==============================] - 1s 310us/sample - loss: 0.3156 - acc: 0.8262 - val_loss: 0.3380 - val_acc: 0.8143\n",
            "Epoch 65/100\n",
            "3579/3579 [==============================] - 1s 315us/sample - loss: 0.3158 - acc: 0.8209 - val_loss: 0.3492 - val_acc: 0.7897\n",
            "Epoch 66/100\n",
            "3579/3579 [==============================] - 1s 322us/sample - loss: 0.3115 - acc: 0.8284 - val_loss: 0.3378 - val_acc: 0.7987\n",
            "Epoch 67/100\n",
            "3579/3579 [==============================] - 1s 320us/sample - loss: 0.3119 - acc: 0.8284 - val_loss: 0.3471 - val_acc: 0.7919\n",
            "Epoch 68/100\n",
            "3579/3579 [==============================] - 1s 315us/sample - loss: 0.3150 - acc: 0.8206 - val_loss: 0.3402 - val_acc: 0.8188\n",
            "Epoch 69/100\n",
            "3579/3579 [==============================] - 1s 319us/sample - loss: 0.3146 - acc: 0.8243 - val_loss: 0.3454 - val_acc: 0.8166\n",
            "Epoch 70/100\n",
            "3579/3579 [==============================] - 1s 317us/sample - loss: 0.3146 - acc: 0.8251 - val_loss: 0.3482 - val_acc: 0.7964\n",
            "Epoch 71/100\n",
            "3579/3579 [==============================] - 1s 316us/sample - loss: 0.3107 - acc: 0.8229 - val_loss: 0.3350 - val_acc: 0.8143\n",
            "Epoch 72/100\n",
            "3579/3579 [==============================] - 1s 315us/sample - loss: 0.3102 - acc: 0.8276 - val_loss: 0.3656 - val_acc: 0.7718\n",
            "Epoch 73/100\n",
            "3579/3579 [==============================] - 1s 311us/sample - loss: 0.3126 - acc: 0.8254 - val_loss: 0.3425 - val_acc: 0.8054\n",
            "Epoch 74/100\n",
            "3579/3579 [==============================] - 1s 314us/sample - loss: 0.3117 - acc: 0.8265 - val_loss: 0.3425 - val_acc: 0.8098\n",
            "Epoch 75/100\n",
            "3579/3579 [==============================] - 1s 320us/sample - loss: 0.3109 - acc: 0.8310 - val_loss: 0.3479 - val_acc: 0.7964\n",
            "Epoch 76/100\n",
            "3579/3579 [==============================] - 1s 324us/sample - loss: 0.3084 - acc: 0.8279 - val_loss: 0.3695 - val_acc: 0.7964\n",
            "Epoch 77/100\n",
            "3579/3579 [==============================] - 1s 311us/sample - loss: 0.3120 - acc: 0.8212 - val_loss: 0.3374 - val_acc: 0.8166\n",
            "Epoch 78/100\n",
            "3579/3579 [==============================] - 1s 316us/sample - loss: 0.3127 - acc: 0.8287 - val_loss: 0.3654 - val_acc: 0.7919\n",
            "Epoch 79/100\n",
            "3579/3579 [==============================] - 1s 317us/sample - loss: 0.3122 - acc: 0.8212 - val_loss: 0.3510 - val_acc: 0.8121\n",
            "Epoch 80/100\n",
            "3579/3579 [==============================] - 1s 317us/sample - loss: 0.3093 - acc: 0.8243 - val_loss: 0.3400 - val_acc: 0.7942\n",
            "Epoch 81/100\n",
            "3579/3579 [==============================] - 1s 316us/sample - loss: 0.3095 - acc: 0.8226 - val_loss: 0.3452 - val_acc: 0.7740\n",
            "Epoch 82/100\n",
            "3579/3579 [==============================] - 1s 314us/sample - loss: 0.3127 - acc: 0.8226 - val_loss: 0.3378 - val_acc: 0.8076\n",
            "Epoch 83/100\n",
            "3579/3579 [==============================] - 1s 318us/sample - loss: 0.3103 - acc: 0.8243 - val_loss: 0.3354 - val_acc: 0.8121\n",
            "Epoch 84/100\n",
            "3579/3579 [==============================] - 1s 319us/sample - loss: 0.3124 - acc: 0.8229 - val_loss: 0.3493 - val_acc: 0.7919\n",
            "Epoch 85/100\n",
            "3579/3579 [==============================] - 1s 317us/sample - loss: 0.3065 - acc: 0.8338 - val_loss: 0.3526 - val_acc: 0.8054\n",
            "Epoch 86/100\n",
            "3579/3579 [==============================] - 1s 319us/sample - loss: 0.3091 - acc: 0.8254 - val_loss: 0.3569 - val_acc: 0.8076\n",
            "Epoch 87/100\n",
            "3579/3579 [==============================] - 1s 315us/sample - loss: 0.3088 - acc: 0.8245 - val_loss: 0.3436 - val_acc: 0.8076\n",
            "Epoch 88/100\n",
            "3579/3579 [==============================] - 1s 313us/sample - loss: 0.3093 - acc: 0.8296 - val_loss: 0.3437 - val_acc: 0.8098\n",
            "Epoch 89/100\n",
            "3579/3579 [==============================] - 1s 313us/sample - loss: 0.3092 - acc: 0.8231 - val_loss: 0.3413 - val_acc: 0.8031\n",
            "Epoch 90/100\n",
            "3579/3579 [==============================] - 1s 314us/sample - loss: 0.3107 - acc: 0.8256 - val_loss: 0.3380 - val_acc: 0.8166\n",
            "Epoch 91/100\n",
            "3579/3579 [==============================] - 1s 316us/sample - loss: 0.3082 - acc: 0.8265 - val_loss: 0.3380 - val_acc: 0.8143\n",
            "Epoch 92/100\n",
            "3579/3579 [==============================] - 1s 315us/sample - loss: 0.3106 - acc: 0.8270 - val_loss: 0.3366 - val_acc: 0.8233\n",
            "Epoch 93/100\n",
            "3579/3579 [==============================] - 1s 322us/sample - loss: 0.3079 - acc: 0.8304 - val_loss: 0.3419 - val_acc: 0.7942\n",
            "Epoch 94/100\n",
            "3579/3579 [==============================] - 1s 316us/sample - loss: 0.3079 - acc: 0.8265 - val_loss: 0.3554 - val_acc: 0.7964\n",
            "Epoch 95/100\n",
            "3579/3579 [==============================] - 1s 315us/sample - loss: 0.3071 - acc: 0.8254 - val_loss: 0.3450 - val_acc: 0.7987\n",
            "Epoch 96/100\n",
            "3579/3579 [==============================] - 1s 309us/sample - loss: 0.3072 - acc: 0.8268 - val_loss: 0.3552 - val_acc: 0.8054\n",
            "Epoch 97/100\n",
            "3579/3579 [==============================] - 1s 314us/sample - loss: 0.3044 - acc: 0.8335 - val_loss: 0.3616 - val_acc: 0.7875\n",
            "Epoch 98/100\n",
            "3579/3579 [==============================] - 1s 317us/sample - loss: 0.3087 - acc: 0.8262 - val_loss: 0.3439 - val_acc: 0.7919\n",
            "Epoch 99/100\n",
            "3579/3579 [==============================] - 1s 316us/sample - loss: 0.3075 - acc: 0.8307 - val_loss: 0.3453 - val_acc: 0.8009\n",
            "Epoch 100/100\n",
            "3579/3579 [==============================] - 1s 318us/sample - loss: 0.3091 - acc: 0.8282 - val_loss: 0.3495 - val_acc: 0.8009\n"
          ],
          "name": "stdout"
        },
        {
          "output_type": "execute_result",
          "data": {
            "text/plain": [
              "<tensorflow.python.keras.callbacks.History at 0x7fe7dfa20fd0>"
            ]
          },
          "metadata": {
            "tags": []
          },
          "execution_count": 23
        }
      ]
    },
    {
      "cell_type": "code",
      "metadata": {
        "id": "zqXqKZbqI5gL",
        "colab_type": "code",
        "colab": {
          "base_uri": "https://localhost:8080/",
          "height": 319
        },
        "outputId": "88df9f79-c597-419f-930f-5d8d3fbbfc4b"
      },
      "source": [
        "#Overfitted model\n",
        "#Early stop method need to be implemented. We will use callbacks\n",
        "#Batch size\n",
        "batch_size = 10\n",
        "\n",
        "#Choose number of epochs\n",
        "NUM_EPOCHS = 100\n",
        "\n",
        "early_stopping = tf.keras.callbacks.EarlyStopping(patience=2)\n",
        "\n",
        "model.fit(train_inputs, \n",
        "          train_targets,\n",
        "          batch_size = batch_size,          \n",
        "          epochs = NUM_EPOCHS, \n",
        "          callbacks = [early_stopping],\n",
        "          validation_data=(validation_inputs, validation_targets),\n",
        "          verbose=1)\n"
      ],
      "execution_count": 14,
      "outputs": [
        {
          "output_type": "stream",
          "text": [
            "Train on 3579 samples, validate on 447 samples\n",
            "Epoch 1/100\n",
            "3579/3579 [==============================] - 2s 497us/sample - loss: 0.4580 - acc: 0.7497 - val_loss: 0.3844 - val_acc: 0.7964\n",
            "Epoch 2/100\n",
            "3579/3579 [==============================] - 1s 302us/sample - loss: 0.3745 - acc: 0.7913 - val_loss: 0.3478 - val_acc: 0.8098\n",
            "Epoch 3/100\n",
            "3579/3579 [==============================] - 1s 309us/sample - loss: 0.3587 - acc: 0.7958 - val_loss: 0.3454 - val_acc: 0.8233\n",
            "Epoch 4/100\n",
            "3579/3579 [==============================] - 1s 306us/sample - loss: 0.3486 - acc: 0.8066 - val_loss: 0.3318 - val_acc: 0.8277\n",
            "Epoch 5/100\n",
            "3579/3579 [==============================] - 1s 307us/sample - loss: 0.3432 - acc: 0.8016 - val_loss: 0.3239 - val_acc: 0.8210\n",
            "Epoch 6/100\n",
            "3579/3579 [==============================] - 1s 308us/sample - loss: 0.3363 - acc: 0.8094 - val_loss: 0.3072 - val_acc: 0.8367\n",
            "Epoch 7/100\n",
            "3579/3579 [==============================] - 1s 306us/sample - loss: 0.3373 - acc: 0.8100 - val_loss: 0.3136 - val_acc: 0.8345\n",
            "Epoch 8/100\n",
            "3579/3579 [==============================] - 1s 309us/sample - loss: 0.3334 - acc: 0.8136 - val_loss: 0.3151 - val_acc: 0.8456\n"
          ],
          "name": "stdout"
        },
        {
          "output_type": "execute_result",
          "data": {
            "text/plain": [
              "<tensorflow.python.keras.callbacks.History at 0x7f9e79478940>"
            ]
          },
          "metadata": {
            "tags": []
          },
          "execution_count": 14
        }
      ]
    },
    {
      "cell_type": "code",
      "metadata": {
        "id": "izEvXkEjFA-f",
        "colab_type": "code",
        "colab": {
          "base_uri": "https://localhost:8080/",
          "height": 34
        },
        "outputId": "c15a710a-bc90-49cb-e9ff-c984acc63e11"
      },
      "source": [
        "\n",
        "#to store in variables test loss and test accuracy, we write:\n",
        "test_loss, test_accuracy = model.evaluate(test_inputs, test_targets)"
      ],
      "execution_count": 16,
      "outputs": [
        {
          "output_type": "stream",
          "text": [
            "448/448 [==============================] - 0s 69us/sample - loss: 0.3582 - acc: 0.7991\n"
          ],
          "name": "stdout"
        }
      ]
    },
    {
      "cell_type": "code",
      "metadata": {
        "id": "1DkvGg55FBBl",
        "colab_type": "code",
        "colab": {
          "base_uri": "https://localhost:8080/",
          "height": 34
        },
        "outputId": "ef2c397b-8cc1-4f53-881d-0f353b1e65e6"
      },
      "source": [
        "print('Test loss: {0:.2f}, Test accuracy: {1:.2f}%'.format(test_loss, test_accuracy*100))"
      ],
      "execution_count": 17,
      "outputs": [
        {
          "output_type": "stream",
          "text": [
            "Test loss: 0.36, Test accuracy: 79.91%\n"
          ],
          "name": "stdout"
        }
      ]
    },
    {
      "cell_type": "code",
      "metadata": {
        "id": "3LmFxNRJFBEp",
        "colab_type": "code",
        "colab": {
          "base_uri": "https://localhost:8080/",
          "height": 302
        },
        "outputId": "d96a3941-26a9-457c-9e32-c4a52c537451"
      },
      "source": [
        "import matplotlib.pyplot as plt\n",
        "\n",
        "plt.plot(np.squeeze(model.predict_on_batch(train_inputs)),np.squeeze(train_targets))"
      ],
      "execution_count": 22,
      "outputs": [
        {
          "output_type": "execute_result",
          "data": {
            "text/plain": [
              "[<matplotlib.lines.Line2D at 0x7f9e4093e4a8>,\n",
              " <matplotlib.lines.Line2D at 0x7f9e4093e5f8>]"
            ]
          },
          "metadata": {
            "tags": []
          },
          "execution_count": 22
        },
        {
          "output_type": "display_data",
          "data": {
            "image/png": "[encoded data removed]",
            "text/plain": [
              "<Figure size 432x288 with 1 Axes>"
            ]
          },
          "metadata": {
            "tags": []
          }
        }
      ]
    },
    {
      "cell_type": "code",
      "metadata": {
        "id": "TBmjOoq-FBHg",
        "colab_type": "code",
        "colab": {}
      },
      "source": [
        ""
      ],
      "execution_count": 0,
      "outputs": []
    },
    {
      "cell_type": "code",
      "metadata": {
        "id": "3o4P1p9SFBKo",
        "colab_type": "code",
        "colab": {}
      },
      "source": [
        ""
      ],
      "execution_count": 0,
      "outputs": []
    }
  ]
}